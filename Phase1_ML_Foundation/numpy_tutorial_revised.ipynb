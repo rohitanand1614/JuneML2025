{
  "cells": [
    {
      "cell_type": "markdown",
      "metadata": {},
      "source": [
        "# **NumPy Mastery for AI Engineers - Q&A Learning Guide (2025)**\n",
        "*A Progressive Learning Jupyter Notebook*\n",
        "\n",
        "Welcome to your comprehensive NumPy learning journey! This notebook is designed to take you from beginner to proficient in just one week through structured question-and-answer practice.\n",
        "\n",
        "**Learning Approach:**\n",
        "- Each concept starts with a simple question\n",
        "- Code examples follow immediately\n",
        "- Complexity builds gradually\n",
        "- Practical AI/ML applications included\n",
        "\n",
        "---"
      ]
    },
    {
      "cell_type": "markdown",
      "metadata": {},
      "source": [
        "## **Day 1: Getting Started with NumPy**\n",
        "\n",
        "### **Question 1:** Write a single line of code to import the NumPy library. What is the standard syntax?"
      ]
    },
    {
      "cell_type": "code",
      "execution_count": null,
      "metadata": {},
      "outputs": [],
      "source": [
        "import numpy as np"
      ]
    },
    {
      "cell_type": "markdown",
      "metadata": {},
      "source": [
        "**Explanation:** We import NumPy with the alias `np` - this is the universal convention used by all data scientists and AI engineers worldwide.\n",
        "\n",
        "### **Question 2:** How do you create a simple 1D array with the numbers [1, 2, 3, 4, 5]?"
      ]
    },
    {
      "cell_type": "code",
      "execution_count": null,
      "metadata": {},
      "outputs": [],
      "source": [
        "# Create a 1D array\n",
        "arr_1d = np.array([1, 2, 3, 4, 5])\n",
        "print(\"1D Array:\", arr_1d)\n",
        "print(\"Shape:\", arr_1d.shape)\n",
        "print(\"Data type:\", arr_1d.dtype)"
      ]
    },
    {
      "cell_type": "markdown",
      "metadata": {},
      "source": [
        "### **Question 3:** How do you create a 2D array (matrix) with two rows: [1, 2, 3] and [4, 5, 6]?"
      ]
    },
    {
      "cell_type": "code",
      "execution_count": null,
      "metadata": {},
      "outputs": [],
      "source": [
        "# Create a 2D array\n",
        "arr_2d = np.array([[1, 2, 3], [4, 5, 6]])\n",
        "print(\"2D Array:\")\n",
        "print(arr_2d)\n",
        "print(\"Shape:\", arr_2d.shape)\n",
        "print(\"Number of dimensions:\", arr_2d.ndim)"
      ]
    },
    {
      "cell_type": "markdown",
      "metadata": {},
      "source": [
        "### **Question 4:** What's the difference between Python lists and NumPy arrays? Create both and compare."
      ]
    },
    {
      "cell_type": "code",
      "execution_count": null,
      "metadata": {},
      "outputs": [],
      "source": [
        "# Python list\n",
        "python_list = [1, 2, 3, 4, 5]\n",
        "print(\"Python list:\", python_list)\n",
        "print(\"Type:\", type(python_list))\n",
        "\n",
        "# NumPy array\n",
        "numpy_array = np.array([1, 2, 3, 4, 5])\n",
        "print(\"\\nNumPy array:\", numpy_array)\n",
        "print(\"Type:\", type(numpy_array))\n",
        "\n",
        "# Key differences demonstration\n",
        "print(\"\\n--- Key Differences ---\")\n",
        "print(\"List multiplication:\", python_list * 2)  # Repeats elements\n",
        "print(\"Array multiplication:\", numpy_array * 2)  # Mathematical operation"
      ]
    },
    {
      "cell_type": "markdown",
      "metadata": {},
      "source": [
        "---\n",
        "\n",
        "## **Day 2: Array Creation Methods**\n",
        "\n",
        "### **Question 5:** How do you create an array of zeros? Make a 2x3 matrix of zeros."
      ]
    },
    {
      "cell_type": "code",
      "execution_count": null,
      "metadata": {},
      "outputs": [],
      "source": [
        "# Array of zeros\n",
        "zeros = np.zeros((2, 3))\n",
        "print(\"Zeros array:\")\n",
        "print(zeros)\n",
        "print(\"Data type:\", zeros.dtype)"
      ]
    },
    {
      "cell_type": "markdown",
      "metadata": {},
      "source": [
        "### **Question 6:** How do you create an array of ones? Make a 3x2 matrix of ones."
      ]
    },
    {
      "cell_type": "code",
      "execution_count": null,
      "metadata": {},
      "outputs": [],
      "source": [
        "# Array of ones\n",
        "ones = np.ones((3, 2))\n",
        "print(\"Ones array:\")\n",
        "print(ones)"
      ]
    },
    {
      "cell_type": "markdown",
      "metadata": {},
      "source": [
        "### **Question 7:** How do you create a range of numbers from 0 to 10 with step size 2?"
      ]
    },
    {
      "cell_type": "code",
      "execution_count": null,
      "metadata": {},
      "outputs": [],
      "source": [
        "# Range of values\n",
        "range_arr = np.arange(0, 10, 2)  # start, end (exclusive), step\n",
        "print(\"Range array:\", range_arr)\n",
        "\n",
        "# More examples\n",
        "print(\"0 to 5:\", np.arange(5))\n",
        "print(\"1 to 10:\", np.arange(1, 11))"
      ]
    },
    {
      "cell_type": "markdown",
      "metadata": {},
      "source": [
        "### **Question 8:** How do you create 5 evenly spaced numbers between 0 and 1?"
      ]
    },
    {
      "cell_type": "code",
      "execution_count": null,
      "metadata": {},
      "outputs": [],
      "source": [
        "# Linearly spaced values\n",
        "linspace_arr = np.linspace(0, 1, 5)  # start, end, number of points\n",
        "print(\"Linspace array:\", linspace_arr)\n",
        "\n",
        "# Another example: 10 points between -1 and 1\n",
        "print(\"10 points from -1 to 1:\", np.linspace(-1, 1, 10))"
      ]
    },
    {
      "cell_type": "markdown",
      "metadata": {},
      "source": [
        "### **Question 9:** How do you create a 3D array? Make a 2x2x2 array."
      ]
    },
    {
      "cell_type": "code",
      "execution_count": null,
      "metadata": {},
      "outputs": [],
      "source": [
        "# 3D array creation\n",
        "arr_3d = np.array([[[1, 2], [3, 4]], [[5, 6], [7, 8]]])\n",
        "print(\"3D Array:\")\n",
        "print(arr_3d)\n",
        "print(\"Shape:\", arr_3d.shape)\n",
        "print(\"Total elements:\", arr_3d.size)\n",
        "\n",
        "# Alternative: using zeros\n",
        "zeros_3d = np.zeros((2, 2, 2))\n",
        "print(\"\\n3D zeros:\")\n",
        "print(zeros_3d)"
      ]
    },
    {
      "cell_type": "markdown",
      "metadata": {},
      "source": [
        "---\n",
        "\n",
        "## **Day 3: Accessing and Modifying Arrays**\n",
        "\n",
        "### **Question 10:** How do you access individual elements in a 2D array?"
      ]
    },
    {
      "cell_type": "code",
      "execution_count": null,
      "metadata": {},
      "outputs": [],
      "source": [
        "# Create a sample 2D array\n",
        "arr = np.array([[1, 2, 3], [4, 5, 6], [7, 8, 9]])\n",
        "print(\"Original array:\")\n",
        "print(arr)\n",
        "\n",
        "# Accessing elements\n",
        "print(\"\\nElement at row 0, column 1:\", arr[0, 1])\n",
        "print(\"Element at row 2, column 2:\", arr[2, 2])\n",
        "print(\"First element (top-left):\", arr[0, 0])\n",
        "print(\"Last element (bottom-right):\", arr[-1, -1])"
      ]
    },
    {
      "cell_type": "markdown",
      "metadata": {},
      "source": [
        "### **Question 11:** How do you select entire rows and columns from an array?"
      ]
    },
    {
      "cell_type": "code",
      "execution_count": null,
      "metadata": {},
      "outputs": [],
      "source": [
        "# Using the same array from above\n",
        "print(\"Original array:\")\n",
        "print(arr)\n",
        "\n",
        "# Select rows\n",
        "print(\"\\nSecond row (index 1):\", arr[1, :])  # or arr[1]\n",
        "print(\"First row:\", arr[0, :])\n",
        "print(\"Last row:\", arr[-1, :])\n",
        "\n",
        "# Select columns\n",
        "print(\"\\nFirst column:\", arr[:, 0])\n",
        "print(\"Middle column:\", arr[:, 1])\n",
        "print(\"Last column:\", arr[:, -1])"
      ]
    },
    {
      "cell_type": "markdown",
      "metadata": {},
      "source": [
        "### **Question 12:** How do you slice arrays to get subarrays?"
      ]
    },
    {
      "cell_type": "code",
      "execution_count": null,
      "metadata": {},
      "outputs": [],
      "source": [
        "# Array slicing\n",
        "print(\"Original array:\")\n",
        "print(arr)\n",
        "\n",
        "print(\"\\nFirst two rows and last two columns:\")\n",
        "print(arr[:2, 1:])  # rows 0-1, columns 1-2\n",
        "\n",
        "print(\"\\nFirst two rows, all columns:\")\n",
        "print(arr[:2, :])\n",
        "\n",
        "print(\"\\nAll rows, first two columns:\")\n",
        "print(arr[:, :2])\n",
        "\n",
        "print(\"\\nEvery other row and column:\")\n",
        "print(arr[::2, ::2])"
      ]
    },
    {
      "cell_type": "markdown",
      "metadata": {},
      "source": [
        "### **Question 13:** How do you modify elements in an array?"
      ]
    },
    {
      "cell_type": "code",
      "execution_count": null,
      "metadata": {},
      "outputs": [],
      "source": [
        "# Create a copy to modify (so we don't change the original)\n",
        "arr_copy = arr.copy()\n",
        "print(\"Original array:\")\n",
        "print(arr_copy)\n",
        "\n",
        "# Modify single element\n",
        "arr_copy[1, 1] = 99\n",
        "print(\"\\nAfter changing middle element to 99:\")\n",
        "print(arr_copy)\n",
        "\n",
        "# Modify entire row\n",
        "arr_copy[0, :] = [10, 20, 30]\n",
        "print(\"\\nAfter changing first row:\")\n",
        "print(arr_copy)\n",
        "\n",
        "# Modify multiple elements at once\n",
        "arr_copy[2, :2] = 0  # Set first two elements of last row to 0\n",
        "print(\"\\nAfter setting part of last row to 0:\")\n",
        "print(arr_copy)"
      ]
    },
    {
      "cell_type": "markdown",
      "metadata": {},
      "source": [
        "---\n",
        "\n",
        "## **Day 4: Basic Operations and Broadcasting**\n",
        "\n",
        "### **Question 14:** How do you perform basic arithmetic operations between arrays?"
      ]
    },
    {
      "cell_type": "code",
      "execution_count": null,
      "metadata": {},
      "outputs": [],
      "source": [
        "# Create two arrays for operations\n",
        "a = np.array([1, 2, 3, 4])\n",
        "b = np.array([10, 20, 30, 40])\n",
        "\n",
        "print(\"Array a:\", a)\n",
        "print(\"Array b:\", b)\n",
        "\n",
        "# Element-wise operations\n",
        "print(\"\\nAddition (a + b):\", a + b)\n",
        "print(\"Subtraction (a - b):\", a - b)\n",
        "print(\"Multiplication (a * b):\", a * b)\n",
        "print(\"Division (b / a):\", b / a)\n",
        "print(\"Power (a ** 2):\", a ** 2)\n",
        "print(\"Modulo (b % 3):\", b % 3)"
      ]
    },
    {
      "cell_type": "markdown",
      "metadata": {},
      "source": [
        "### **Question 15:** How do you perform operations between an array and a single number (scalar)?"
      ]
    },
    {
      "cell_type": "code",
      "execution_count": null,
      "metadata": {},
      "outputs": [],
      "source": [
        "# Scalar operations\n",
        "arr = np.array([1, 2, 3, 4, 5])\n",
        "print(\"Original array:\", arr)\n",
        "\n",
        "print(\"\\nAdd 10 to all elements:\", arr + 10)\n",
        "print(\"Multiply all by 3:\", arr * 3)\n",
        "print(\"Divide all by 2:\", arr / 2)\n",
        "print(\"Subtract 1 from all:\", arr - 1)\n",
        "print(\"Square all elements:\", arr ** 2)"
      ]
    },
    {
      "cell_type": "markdown",
      "metadata": {},
      "source": [
        "### **Question 16:** What is broadcasting and how does it work with different shaped arrays?"
      ]
    },
    {
      "cell_type": "code",
      "execution_count": null,
      "metadata": {},
      "outputs": [],
      "source": [
        "# Broadcasting examples\n",
        "# Example 1: 2D array + 1D array\n",
        "matrix = np.array([[1, 2, 3], [4, 5, 6]])\n",
        "vector = np.array([10, 20, 30])\n",
        "\n",
        "print(\"Matrix (2x3):\")\n",
        "print(matrix)\n",
        "print(\"\\nVector (3,):\")\n",
        "print(vector)\n",
        "\n",
        "result = matrix + vector\n",
        "print(\"\\nMatrix + Vector (broadcasting):\")\n",
        "print(result)\n",
        "\n",
        "# Example 2: Column vector broadcasting\n",
        "col_vector = np.array([[100], [200]])\n",
        "print(\"\\nColumn vector (2x1):\")\n",
        "print(col_vector)\n",
        "\n",
        "result2 = matrix + col_vector\n",
        "print(\"\\nMatrix + Column Vector:\")\n",
        "print(result2)"
      ]
    },
    {
      "cell_type": "markdown",
      "metadata": {},
      "source": [
        "### **Question 17:** How do you calculate dot products and matrix multiplication?"
      ]
    },
    {
      "cell_type": "code",
      "execution_count": null,
      "metadata": {},
      "outputs": [],
      "source": [
        "# Dot product for 1D arrays\n",
        "a = np.array([1, 2, 3])\n",
        "b = np.array([4, 5, 6])\n",
        "\n",
        "print(\"Vector a:\", a)\n",
        "print(\"Vector b:\", b)\n",
        "print(\"Dot product:\", np.dot(a, b))\n",
        "print(\"Alternative syntax:\", a @ b)\n",
        "\n",
        "# Matrix multiplication\n",
        "A = np.array([[1, 2], [3, 4]])\n",
        "B = np.array([[5, 6], [7, 8]])\n",
        "\n",
        "print(\"\\nMatrix A:\")\n",
        "print(A)\n",
        "print(\"\\nMatrix B:\")\n",
        "print(B)\n",
        "\n",
        "print(\"\\nMatrix multiplication (A @ B):\")\n",
        "print(A @ B)\n",
        "print(\"\\nUsing np.matmul:\")\n",
        "print(np.matmul(A, B))"
      ]
    },
    {
      "cell_type": "markdown",
      "metadata": {},
      "source": [
        "---\n",
        "\n",
        "## **Day 5: Mathematical Functions and Statistics**\n",
        "\n",
        "### **Question 18:** How do you apply mathematical functions to arrays?"
      ]
    },
    {
      "cell_type": "code",
      "execution_count": null,
      "metadata": {},
      "outputs": [],
      "source": [
        "# Universal functions (ufuncs)\n",
        "arr = np.array([1.0, 4.0, 9.0, 16.0])\n",
        "print(\"Original array:\", arr)\n",
        "\n",
        "print(\"\\nSquare root:\", np.sqrt(arr))\n",
        "print(\"Exponential (e^x):\", np.exp(arr))\n",
        "print(\"Natural logarithm:\", np.log(arr))\n",
        "print(\"Log base 10:\", np.log10(arr))\n",
        "\n",
        "# Trigonometric functions\n",
        "angles = np.array([0, np.pi/6, np.pi/4, np.pi/3, np.pi/2])\n",
        "print(\"\\nAngles (radians):\", angles)\n",
        "print(\"Sine:\", np.sin(angles))\n",
        "print(\"Cosine:\", np.cos(angles))\n",
        "print(\"Tangent:\", np.tan(angles))"
      ]
    },
    {
      "cell_type": "markdown",
      "metadata": {},
      "source": [
        "### **Question 19:** How do you compute basic statistics like mean, median, and standard deviation?"
      ]
    },
    {
      "cell_type": "code",
      "execution_count": null,
      "metadata": {},
      "outputs": [],
      "source": [
        "# Statistical functions\n",
        "data = np.array([1, 2, 3, 4, 5, 6, 7, 8, 9, 10])\n",
        "print(\"Data:\", data)\n",
        "\n",
        "print(\"\\n--- Basic Statistics ---\")\n",
        "print(\"Mean:\", np.mean(data))\n",
        "print(\"Median:\", np.median(data))\n",
        "print(\"Standard deviation:\", np.std(data))\n",
        "print(\"Variance:\", np.var(data))\n",
        "print(\"Minimum:\", np.min(data))\n",
        "print(\"Maximum:\", np.max(data))\n",
        "print(\"Sum:\", np.sum(data))\n",
        "print(\"Range:\", np.max(data) - np.min(data))\n",
        "\n",
        "# Find indices of min and max\n",
        "print(\"\\nIndex of minimum:\", np.argmin(data))\n",
        "print(\"Index of maximum:\", np.argmax(data))"
      ]
    },
    {
      "cell_type": "markdown",
      "metadata": {},
      "source": [
        "### **Question 20:** How do you compute statistics along specific axes in multi-dimensional arrays?"
      ]
    },
    {
      "cell_type": "code",
      "execution_count": null,
      "metadata": {},
      "outputs": [],
      "source": [
        "# Statistics along axes\n",
        "matrix = np.array([[1, 2, 3], [4, 5, 6], [7, 8, 9]])\n",
        "print(\"Matrix:\")\n",
        "print(matrix)\n",
        "\n",
        "print(\"\\nOverall statistics:\")\n",
        "print(\"Overall mean:\", np.mean(matrix))\n",
        "print(\"Overall sum:\", np.sum(matrix))\n",
        "\n",
        "print(\"\\nColumn-wise statistics (axis=0):\")\n",
        "print(\"Mean of each column:\", np.mean(matrix, axis=0))\n",
        "print(\"Sum of each column:\", np.sum(matrix, axis=0))\n",
        "\n",
        "print(\"\\nRow-wise statistics (axis=1):\")\n",
        "print(\"Mean of each row:\", np.mean(matrix, axis=1))\n",
        "print(\"Sum of each row:\", np.sum(matrix, axis=1))"
      ]
    },
    {
      "cell_type": "markdown",
      "metadata": {},
      "source": [
        "---\n",
        "\n",
        "## **Day 6: Random Numbers and Linear Algebra**\n",
        "\n",
        "### **Question 21:** How do you generate random numbers for machine learning applications?"
      ]
    },
    {
      "cell_type": "code",
      "execution_count": null,
      "metadata": {},
      "outputs": [],
      "source": [
        "# Set seed for reproducibility\n",
        "np.random.seed(42)\n",
        "\n",
        "print(\"--- Random Number Generation ---\")\n",
        "\n",
        "# Random integers\n",
        "random_ints = np.random.randint(0, 10, size=(2, 3))\n",
        "print(\"Random integers (0-9):\")\n",
        "print(random_ints)\n",
        "\n",
        "# Random floats (uniform distribution 0-1)\n",
        "random_uniform = np.random.rand(2, 3)\n",
        "print(\"\\nRandom floats (uniform 0-1):\")\n",
        "print(random_uniform)\n",
        "\n",
        "# Random floats (normal/Gaussian distribution)\n",
        "random_normal = np.random.randn(2, 3)\n",
        "print(\"\\nRandom floats (normal distribution):\")\n",
        "print(random_normal)\n",
        "\n",
        "# Random choice from array\n",
        "choices = np.random.choice([1, 2, 3, 4, 5], size=5)\n",
        "print(\"\\nRandom choices:\", choices)"
      ]
    },
    {
      "cell_type": "markdown",
      "metadata": {},
      "source": [
        "### **Question 22:** How do you shuffle arrays and sample data?"
      ]
    },
    {
      "cell_type": "code",
      "execution_count": null,
      "metadata": {},
      "outputs": [],
      "source": [
        "# Shuffling arrays\n",
        "original = np.arange(10)\n",
        "print(\"Original array:\", original)\n",
        "\n",
        "# Shuffle in place\n",
        "shuffled = original.copy()\n",
        "np.random.shuffle(shuffled)\n",
        "print(\"Shuffled array:\", shuffled)\n",
        "\n",
        "# Random permutation (returns new array)\n",
        "permuted = np.random.permutation(10)\n",
        "print(\"Random permutation:\", permuted)\n",
        "\n",
        "# Random sampling without replacement\n",
        "sample = np.random.choice(original, size=5, replace=False)\n",
        "print(\"Random sample (no replacement):\", sample)"
      ]
    },
    {
      "cell_type": "markdown",
      "metadata": {},
      "source": [
        "### **Question 23:** How do you perform advanced linear algebra operations?"
      ]
    },
    {
      "cell_type": "code",
      "execution_count": null,
      "metadata": {},
      "outputs": [],
      "source": [
        "# Linear algebra operations\n",
        "A = np.array([[4, 2], [1, 3]])\n",
        "print(\"Matrix A:\")\n",
        "print(A)\n",
        "\n",
        "# Matrix inverse\n",
        "A_inv = np.linalg.inv(A)\n",
        "print(\"\\nInverse of A:\")\n",
        "print(A_inv)\n",
        "\n",
        "# Verify inverse (should be identity matrix)\n",
        "identity = A @ A_inv\n",
        "print(\"\\nA @ A_inv (should be identity):\")\n",
        "print(np.round(identity, 10))  # Round to handle floating point errors\n",
        "\n",
        "# Determinant\n",
        "det_A = np.linalg.det(A)\n",
        "print(\"\\nDeterminant of A:\", det_A)\n",
        "\n",
        "# Matrix rank\n",
        "rank_A = np.linalg.matrix_rank(A)\n",
        "print(\"Rank of A:\", rank_A)"
      ]
    },
    {
      "cell_type": "markdown",
      "metadata": {},
      "source": [
        "### **Question 24:** How do you find eigenvalues and eigenvectors?"
      ]
    },
    {
      "cell_type": "code",
      "execution_count": null,
      "metadata": {},
      "outputs": [],
      "source": [
        "# Eigenvalues and eigenvectors\n",
        "A = np.array([[4, 2], [1, 3]])\n",
        "print(\"Matrix A:\")\n",
        "print(A)\n",
        "\n",
        "# Compute eigenvalues and eigenvectors\n",
        "eigenvals, eigenvecs = np.linalg.eig(A)\n",
        "print(\"\\nEigenvalues:\", eigenvals)\n",
        "print(\"\\nEigenvectors:\")\n",
        "print(eigenvecs)\n",
        "\n",
        "# Verify: A @ v = λ @ v for first eigenvector\n",
        "v1 = eigenvecs[:, 0]  # First eigenvector\n",
        "lambda1 = eigenvals[0]  # First eigenvalue\n",
        "\n",
        "print(\"\\nVerification for first eigenvector:\")\n",
        "print(\"A @ v1 =\", A @ v1)\n",
        "print(\"λ1 * v1 =\", lambda1 * v1)\n",
        "print(\"Close enough?\", np.allclose(A @ v1, lambda1 * v1))"
      ]
    },
    {
      "cell_type": "markdown",
      "metadata": {},
      "source": [
        "---\n",
        "\n",
        "## **Day 7: AI/ML Specific Applications**\n",
        "\n",
        "### **Question 25:** How do you create one-hot encoded vectors for deep learning?"
      ]
    },
    {
      "cell_type": "code",
      "execution_count": null,
      "metadata": {},
      "outputs": [],
      "source": [
        "# One-hot encoding - crucial for neural networks\n",
        "labels = np.array([0, 2, 1, 2, 0, 1])  # Class labels\n",
        "num_classes = 3\n",
        "\n",
        "print(\"Original labels:\", labels)\n",
        "print(\"Number of classes:\", num_classes)\n",
        "\n",
        "# Create one-hot encoding\n",
        "one_hot = np.eye(num_classes)[labels]\n",
        "print(\"\\nOne-hot encoded:\")\n",
        "print(one_hot)\n",
        "# Alternative method \n",
        "one_hot_alt = np.zeros((len(labels), num_classes))\n",
        "one_hot_alt[np.arange(len(labels)), labels] = 1\n",
        "print(\"Alternative method result:\")\n",
        "print(one_hot_alt)\n"
      ]
    },
    {
      "cell_type": "markdown",
      "metadata": {},
      "source": [
        "### **Question 26:** How do you reshape data for neural networks?"
      ]
    },
    {
      "cell_type": "code",
      "execution_count": null,
      "metadata": {},
      "outputs": [],
      "source": [
        "# Image data reshaping - common in computer vision\n",
        "# Simulate 100 grayscale images of 28x28 pixels (like MNIST)\n",
        "images = np.random.rand(100, 28, 28)\n",
        "print(\"Original images shape:\", images.shape)\n",
        "print(\"Total pixels per image:\", 28 * 28)\n",
        "\n",
        "# Flatten for fully connected layers\n",
        "flattened = images.reshape(100, -1)  # -1 means \"calculate this dimension\"\n",
        "print(\"\\nFlattened shape:\", flattened.shape)\n",
        "\n",
        "# Alternative reshape methods\n",
        "flattened_alt = images.reshape(images.shape[0], -1)\n",
        "print(\"Alternative reshape:\", flattened_alt.shape)\n",
        "\n",
        "# Reshape back to original\n",
        "reshaped_back = flattened.reshape(100, 28, 28)\n",
        "print(\"Reshaped back:\", reshaped_back.shape)\n",
        "print(\"Same as original?\", np.array_equal(images, reshaped_back))"
      ]
    },
    {
      "cell_type": "markdown",
      "metadata": {},
      "source": [
        "### **Question 27:** How do you implement batch normalization preprocessing?"
      ]
    },
    {
      "cell_type": "code",
      "execution_count": null,
      "metadata": {},
      "outputs": [],
      "source": [
        "# Batch normalization - essential preprocessing technique\n",
        "# Simulate a batch of 32 samples with 64 features each\n",
        "np.random.seed(42)\n",
        "batch = np.random.randn(32, 64) * 10 + 5  # Mean=5, std=10\n",
        "\n",
        "print(\"Original batch statistics:\")\n",
        "print(\"Shape:\", batch.shape)\n",
        "print(\"Mean:\", np.mean(batch))\n",
        "print(\"Std:\", np.std(batch))\n",
        "\n",
        "# Batch normalization: (x - mean) / std\n",
        "normalized = (batch - np.mean(batch, axis=0)) / np.std(batch, axis=0)\n",
        "\n",
        "print(\"\\nAfter batch normalization:\")\n",
        "print(\"Mean:\", np.mean(normalized))\n",
        "print(\"Std:\", np.std(normalized))\n",
        "print(\"Mean per feature (should be ~0):\", np.mean(normalized, axis=0)[:5])  # Show first 5\n",
        "print(\"Std per feature (should be ~1):\", np.std(normalized, axis=0)[:5])    # Show first 5"
      ]
    },
    {
      "cell_type": "markdown",
      "metadata": {},
      "source": [
        "### **Question 28:** How do you implement data augmentation techniques?"
      ]
    },
    {
      "cell_type": "code",
      "execution_count": null,
      "metadata": {},
      "outputs": [],
      "source": [
        "# Data augmentation examples\n",
        "# Create a simple 2D \"image\"\n",
        "image = np.array([[1, 2, 3, 4],\n",
        "                  [5, 6, 7, 8],\n",
        "                  [9, 10, 11, 12]])\n",
        "\n",
        "print(\"Original image:\")\n",
        "print(image)\n",
        "\n",
        "# Horizontal flip\n",
        "flipped_h = np.fliplr(image)\n",
        "print(\"\\nHorizontally flipped:\")\n",
        "print(flipped_h)\n",
        "\n",
        "# Vertical flip\n",
        "flipped_v = np.flipud(image)\n",
        "print(\"\\nVertically flipped:\")\n",
        "print(flipped_v)\n",
        "\n",
        "# Rotation (90 degrees)\n",
        "rotated = np.rot90(image)\n",
        "print(\"\\nRotated 90 degrees:\")\n",
        "print(rotated)\n",
        "\n",
        "# Add noise (data augmentation)\n",
        "noise = np.random.normal(0, 0.1, image.shape)\n",
        "noisy_image = image + noise\n",
        "print(\"\\nWith added noise:\")\n",
        "print(np.round(noisy_image, 2))"
      ]
    },
    {
      "cell_type": "markdown",
      "metadata": {},
      "source": [
        "### **Question 29:** How do you split data into training and testing sets?"
      ]
    },
    {
      "cell_type": "code",
      "execution_count": null,
      "metadata": {},
      "outputs": [],
      "source": [
        "# Train-test split implementation\n",
        "# Create sample dataset\n",
        "np.random.seed(42)\n",
        "X = np.random.randn(1000, 5)  # 1000 samples, 5 features\n",
        "y = np.random.randint(0, 2, 1000)  # Binary classification labels\n",
        "\n",
        "print(\"Dataset info:\")\n",
        "print(\"X shape:\", X.shape)\n",
        "print(\"y shape:\", y.shape)\n",
        "\n",
        "# 80-20 split\n",
        "train_size = int(0.8 * len(X))\n",
        "test_size = len(X) - train_size\n",
        "\n",
        "print(f\"\\nTrain size: {train_size}, Test size: {test_size}\")\n",
        "\n",
        "# Random indices for splitting\n",
        "indices = np.random.permutation(len(X))\n",
        "train_idx = indices[:train_size]\n",
        "test_idx = indices[train_size:]\n",
        "\n",
        "# Split the data\n",
        "X_train, X_test = X[train_idx], X[test_idx]\n",
        "y_train, y_test = y[train_idx], y[test_idx]\n",
        "\n",
        "print(\"\\nTraining set:\")\n",
        "print(\"X_train shape:\", X_train.shape)\n",
        "print(\"y_train shape:\", y_train.shape)\n",
        "\n",
        "print(\"\\nTest set:\")\n",
        "print(\"X_test shape:\", X_test.shape)\n",
        "print(\"y_test shape:\", y_test.shape)\n",
        "\n",
        "# Check class distribution\n",
        "print(\"\\nClass distribution in training set:\")\n",
        "unique, counts = np.unique(y_train, return_counts=True)\n",
        "print(dict(zip(unique, counts)))"
      ]
    },
    {
      "cell_type": "markdown",
      "metadata": {},
      "source": [
        "### **Question 30:** How do you implement a simple neural network weight initialization?"
      ]
    },
    {
      "cell_type": "code",
      "execution_count": null,
      "metadata": {},
      "outputs": [],
      "source": [
        "# Neural network weight initialization\n",
        "np.random.seed(42)\n",
        "\n",
        "# Network architecture: 784 -> 128 -> 64 -> 10 (like MNIST classifier)\n",
        "layer_sizes = [784, 128, 64, 10]\n",
        "weights = []\n",
        "biases = []\n",
        "\n",
        "print(\"Neural Network Architecture:\")\n",
        "print(\"Layer sizes:\", layer_sizes)\n",
        "\n",
        "# Initialize weights and biases for each layer\n",
        "for i in range(len(layer_sizes) - 1):\n",
        "    input_size = layer_sizes[i]\n",
        "    output_size = layer_sizes[i + 1]\n",
        "    \n",
        "    # Xavier/Glorot initialization\n",
        "    limit = np.sqrt(6.0 / (input_size + output_size))\n",
        "    W = np.random.uniform(-limit, limit, (input_size, output_size))\n",
        "    b = np.zeros((1, output_size))\n",
        "    \n",
        "    weights.append(W)\n",
        "    biases.append(b)\n",
        "    \n",
        "    print(f\"\\nLayer {i+1}:\")\n",
        "    print(f\"  Weight shape: {W.shape}\")\n",
        "    print(f\"  Bias shape: {b.shape}\")\n",
        "    print(f\"  Weight range: [{W.min():.3f}, {W.max():.3f}]\")\n",
        "    print(f\"  Weight mean: {W.mean():.6f}\")\n",
        "    print(f\"  Weight std: {W.std():.6f}\")\n",
        "\n",
        "print(f\"\\nTotal parameters: {sum(W.size + b.size for W, b in zip(weights, biases))}\")"
      ]
    },
    {
      "cell_type": "markdown",
      "metadata": {},
      "source": [
        "---\n",
        "\n",
        "## **Bonus: Advanced Techniques & Performance Tips**\n",
        "\n",
        "### **Question 31:** How do you optimize NumPy code for better performance?"
      ]
    },
    {
      "cell_type": "code",
      "execution_count": null,
      "metadata": {},
      "outputs": [],
      "source": [
        "import time\n",
        "\n",
        "# Performance comparison: Python loops vs NumPy vectorization\n",
        "size = 1000000\n",
        "a = np.random.rand(size)\n",
        "b = np.random.rand(size)\n",
        "\n",
        "# Method 1: Python loop (slow)\n",
        "start_time = time.time()\n",
        "result_loop = []\n",
        "for i in range(len(a)):\n",
        "    result_loop.append(a[i] * b[i])\n",
        "result_loop = np.array(result_loop)\n",
        "loop_time = time.time() - start_time\n",
        "\n",
        "# Method 2: NumPy vectorization (fast)\n",
        "start_time = time.time()\n",
        "result_vectorized = a * b\n",
        "vectorized_time = time.time() - start_time\n",
        "\n",
        "print(f\"Array size: {size:,}\")\n",
        "print(f\"Python loop time: {loop_time:.4f} seconds\")\n",
        "print(f\"NumPy vectorized time: {vectorized_time:.6f} seconds\")\n",
        "print(f\"Speedup: {loop_time/vectorized_time:.1f}x faster\")\n",
        "print(f\"Results equal: {np.allclose(result_loop, result_vectorized)}\")\n",
        "\n",
        "# Memory-efficient operations\n",
        "print(\"\\n--- Memory Tips ---\")\n",
        "large_array = np.random.rand(1000, 1000)\n",
        "print(f\"Array memory usage: {large_array.nbytes / 1024**2:.1f} MB\")\n",
        "\n",
        "# Use in-place operations when possible\n",
        "large_array *= 2  # In-place multiplication\n",
        "print(\"Used in-place operation to save memory\")"
      ]
    },
    {
      "cell_type": "markdown",
      "metadata": {},
      "source": [
        "### **Question 32:** How do you handle different data types efficiently?"
      ]
    },
    {
      "cell_type": "code",
      "execution_count": null,
      "metadata": {},
      "outputs": [],
      "source": [
        "# Data type optimization\n",
        "print(\"--- Data Type Optimization ---\")\n",
        "\n",
        "# Default vs optimized data types\n",
        "default_int = np.array([1, 2, 3, 4, 5])\n",
        "optimized_int = np.array([1, 2, 3, 4, 5], dtype=np.int8)  # Smaller integers\n",
        "\n",
        "print(f\"Default int: {default_int.dtype}, Size: {default_int.nbytes} bytes\")\n",
        "print(f\"Optimized int: {optimized_int.dtype}, Size: {optimized_int.nbytes} bytes\")\n",
        "\n",
        "# Float precision\n",
        "high_precision = np.array([1.1, 2.2, 3.3], dtype=np.float64)\n",
        "low_precision = np.array([1.1, 2.2, 3.3], dtype=np.float32)\n",
        "\n",
        "print(f\"\\nFloat64: {high_precision.nbytes} bytes\")\n",
        "print(f\"Float32: {low_precision.nbytes} bytes\")\n",
        "print(f\"Values equal: {np.allclose(high_precision, low_precision)}\")\n",
        "\n",
        "# Boolean arrays for masking\n",
        "data = np.random.randn(10)\n",
        "mask = data > 0  # Boolean mask\n",
        "positive_values = data[mask]\n",
        "\n",
        "print(f\"\\nOriginal data: {data}\")\n",
        "print(f\"Boolean mask: {mask}\")\n",
        "print(f\"Positive values: {positive_values}\")"
      ]
    },
    {
      "cell_type": "markdown",
      "metadata": {},
      "source": [
        "---\n",
        "\n",
        "## **Practice Challenges**\n",
        "\n",
        "### **Challenge 1:** Create a function that normalizes any array to have mean 0 and standard deviation 1."
      ]
    },
    {
      "cell_type": "code",
      "execution_count": null,
      "metadata": {},
      "outputs": [],
      "source": [
        "def normalize_array(arr):\n",
        "    \"\"\"\n",
        "    Normalize array to have mean=0 and std=1\n",
        "    \"\"\"\n",
        "    return (arr - np.mean(arr)) / np.std(arr)\n",
        "\n",
        "# Test the function\n",
        "test_data = np.random.randn(1000) * 5 + 10  # mean=10, std=5\n",
        "print(\"Original data:\")\n",
        "print(f\"Mean: {np.mean(test_data):.3f}\")\n",
        "print(f\"Std: {np.std(test_data):.3f}\")\n",
        "\n",
        "normalized = normalize_array(test_data)\n",
        "print(\"\\nNormalized data:\")\n",
        "print(f\"Mean: {np.mean(normalized):.6f}\")\n",
        "print(f\"Std: {np.std(normalized):.6f}\")"
      ]
    },
    {
      "cell_type": "markdown",
      "metadata": {},
      "source": [
        "### **Challenge 2:** Implement a function to compute accuracy for classification."
      ]
    },
    {
      "cell_type": "code",
      "execution_count": null,
      "metadata": {},
      "outputs": [],
      "source": [
        "def compute_accuracy(y_true, y_pred):\n",
        "    \"\"\"\n",
        "    Compute classification accuracy\n",
        "    \"\"\"\n",
        "    return np.mean(y_true == y_pred)\n",
        "\n",
        "# Test the function\n",
        "true_labels = np.array([0, 1, 1, 0, 1, 0, 1, 1, 0, 0])\n",
        "predictions = np.array([0, 1, 0, 0, 1, 1, 1, 1, 0, 0])\n",
        "\n",
        "accuracy = compute_accuracy(true_labels, predictions)\n",
        "print(f\"True labels:  {true_labels}\")\n",
        "print(f\"Predictions:  {predictions}\")\n",
        "print(f\"Accuracy: {accuracy:.2f} ({accuracy*100:.1f}%)\")\n",
        "\n",
        "# Show which predictions were correct\n",
        "correct = true_labels == predictions\n",
        "print(f\"Correct:      {correct.astype(int)}\")\n",
        "print(f\"Correct count: {np.sum(correct)}/{len(correct)}\")"
      ]
    },
    {
      "cell_type": "markdown",
      "metadata": {},
      "source": [
        "### **Challenge 3:** Create a confusion matrix function."
      ]
    },
    {
      "cell_type": "code",
      "execution_count": null,
      "metadata": {},
      "outputs": [],
      "source": [
        "def confusion_matrix(y_true, y_pred, num_classes):\n",
        "    \"\"\"\n",
        "    Create confusion matrix for classification\n",
        "    \"\"\"\n",
        "    matrix = np.zeros((num_classes, num_classes), dtype=int)\n",
        "    for true_label, pred_label in zip(y_true, y_pred):\n",
        "        matrix[true_label, pred_label] += 1\n",
        "    return matrix\n",
        "\n",
        "# Test with 3-class problem\n",
        "y_true = np.array([0, 1, 2, 0, 1, 2, 0, 1, 2, 1])\n",
        "y_pred = np.array([0, 1, 1, 0, 2, 2, 0, 1, 2, 1])\n",
        "\n",
        "cm = confusion_matrix(y_true, y_pred, 3)\n",
        "print(\"Confusion Matrix:\")\n",
        "print(\"Rows: True labels, Columns: Predicted labels\")\n",
        "print(cm)\n",
        "\n",
        "# Calculate per-class accuracy\n",
        "class_accuracy = np.diag(cm) / np.sum(cm, axis=1)\n",
        "print(\"\\nPer-class accuracy:\")\n",
        "for i, acc in enumerate(class_accuracy):\n",
        "    print(f\"Class {i}: {acc:.2f}\")\n",
        "    \n",
        "print(f\"\\nOverall accuracy: {np.sum(np.diag(cm)) / np.sum(cm):.2f}\")"
      ]
    },
    {
      "cell_type": "markdown",
      "metadata": {},
      "source": [
        "---\n",
        "\n",
        "## **Summary and Next Steps**\n",
        "\n",
        "### **🎉 Congratulations!**\n",
        "\n",
        "You've completed the NumPy mastery journey! Here's what you've learned:\n",
        "\n",
        "**Core Concepts Mastered:**\n",
        "- Array creation and manipulation\n",
        "- Indexing, slicing, and reshaping\n",
        "- Mathematical operations and broadcasting\n",
        "- Statistical functions and linear algebra\n",
        "- Random number generation\n",
        "- AI/ML specific applications\n",
        "- Performance optimization techniques\n",
        "\n",
        "**Key Skills for AI/ML:**\n",
        "- Data preprocessing and normalization\n",
        "- One-hot encoding for deep learning\n",
        "- Neural network weight initialization\n",
        "- Train-test data splitting\n",
        "- Performance metrics calculation\n",
        "\n",
        "### **Your Weekly Learning Plan Recap:**\n",
        "- **Day 1-2:** Basic array operations and creation\n",
        "- **Day 3-4:** Indexing, slicing, and arithmetic operations\n",
        "- **Day 5-6:** Advanced math, statistics, and linear algebra\n",
        "- **Day 7:** AI/ML applications and real-world examples\n",
        "\n",
        "### **Recommended Next Steps:**\n",
        "\n",
        "1. **Practice More:**\n",
        "   - Work on real datasets using pandas (built on NumPy)\n",
        "   - Try implementing machine learning algorithms from scratch\n",
        "   - Practice on coding challenge platforms\n",
        "\n",
        "2. **Expand Your Toolkit:**\n",
        "   - **Pandas:** For data manipulation and analysis\n",
        "   - **Matplotlib/Seaborn:** For data visualization\n",
        "   - **Scikit-learn:** For machine learning algorithms\n",
        "   - **TensorFlow/PyTorch:** For deep learning\n",
        "\n",
        "3. **Build Projects:**\n",
        "   - Image classification with neural networks\n",
        "   - Time series analysis and prediction\n",
        "   - Recommendation systems\n",
        "   - Computer vision applications\n",
        "\n",
        "4. **Keep Learning:**\n",
        "   - NumPy documentation: https://numpy.org/doc/\n",
        "   - Online courses in machine learning\n",
        "   - Kaggle competitions for hands-on practice\n",
        "\n",
        "### **Final Challenge:**\n",
        "Try to implement a simple linear regression algorithm using only NumPy operations you've learned!"
      ]
    },
    {
      "cell_type": "code",
      "execution_count": null,
      "metadata": {},
      "outputs": [],
      "source": [
        "# Final challenge: Linear Regression from scratch\n",
        "def linear_regression_numpy(X, y, learning_rate=0.01, epochs=1000):\n",
        "    \"\"\"\n",
        "    Implement linear regression using NumPy\n",
        "    \"\"\"\n",
        "    # Add bias term (intercept)\n",
        "    X_with_bias = np.c_[np.ones(X.shape[0]), X]\n",
        "    \n",
        "    # Initialize weights\n",
        "    weights = np.random.randn(X_with_bias.shape[1]) * 0.01\n",
        "    \n",
        "    # Training loop\n",
        "    for epoch in range(epochs):\n",
        "        # Forward pass\n",
        "        predictions = X_with_bias @ weights\n",
        "        \n",
        "        # Compute loss (Mean Squared Error)\n",
        "        loss = np.mean((predictions - y) ** 2)\n",
        "        \n",
        "        # Compute gradients\n",
        "        gradients = (2/len(y)) * X_with_bias.T @ (predictions - y)\n",
        "        \n",
        "        # Update weights\n",
        "        weights -= learning_rate * gradients\n",
        "        \n",
        "        if epoch % 200 == 0:\n",
        "            print(f\"Epoch {epoch}, Loss: {loss:.4f}\")\n",
        "    \n",
        "    return weights\n",
        "\n",
        "# Test the implementation\n",
        "np.random.seed(42)\n",
        "X = np.random.randn(100, 1)\n",
        "y = 3 * X.ravel() + 2 + np.random.randn(100) * 0.1  # y = 3x + 2 + noise\n",
        "\n",
        "weights = linear_regression_numpy(X, y)\n",
        "print(f\"\\nLearned weights: {weights}\")\n",
        "print(f\"True relationship: y = 3x + 2\")\n",
        "print(f\"Learned relationship: y = {weights[1]:.2f}x + {weights[0]:.2f}\")\n",
        "\n",
        "print(\"\\n🎯 You've successfully implemented linear regression with NumPy!\")\n",
        "print(\"🚀 You're now ready to tackle advanced AI/ML projects!\")"
      ]
    }
  ],
  "metadata": {
    "kernelspec": {
      "display_name": "Python 3",
      "language": "python",
      "name": "python3"
    },
    "language_info": {
      "codemirror_mode": {
        "name": "ipython",
        "version": 3
      },
      "file_extension": ".py",
      "mimetype": "text/x-python",
      "name": "python",
      "nbconvert_exporter": "python",
      "pygments_lexer": "ipython3",
      "version": "3.9.0"
    }
  },
  "nbformat": 4,
  "nbformat_minor": 4
}
