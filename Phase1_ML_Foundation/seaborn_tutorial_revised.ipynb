{
"cells": [
{
"cell_type": "markdown",
"metadata": {},
"source": [
"# Seaborn for AI Engineers (2025): A Q&A Tutorial\n",
"Your guide to mastering data visualization, one question at a time."
]
},
{
"cell_type": "markdown",
"metadata": {},
"source": [
"Welcome to your one-week journey to becoming proficient in Seaborn! This notebook is structured in a question-and-answer format to help you learn incrementally. Each section builds on the last, starting from the absolute basics and moving toward advanced applications relevant to AI and Machine Learning.\n",
"\n",
"Let's get started!"
]
},
{
"cell_type": "markdown",
"metadata": {},
"source": [
"## 1. Getting Started: Setup and Imports\n",
"The first step in any Python project is setting up your environment and importing the necessary libraries."
]
},
{
"cell_type": "markdown",
"metadata": {},
"source": [
"Question: Write a single line of code to import the Seaborn library. What is the standard alias (nickname) used by convention?"
]
},
{
"cell_type": "code",
"execution_count": null,
"metadata": {},
"outputs": [],
"source": [
"# The standard convention is to import seaborn as 'sns'\n",
"import seaborn as sns"
]
},
{
"cell_type": "markdown",
"metadata": {},
"source": [
"Question: Seaborn is built on top of Matplotlib. How do you import the pyplot module from Matplotlib, and why do we use the %matplotlib inline command in Jupyter Notebooks?"
]
},
{
"cell_type": "code",
"execution_count": null,
"metadata": {},
"outputs": [],
"source": [
"# We import pyplot for further plot customization\n",
"import matplotlib.pyplot as plt\n",
"\n",
"# This 'magic' command ensures that plots are rendered directly within the notebook\n",
"%matplotlib inline"
]
},
{
"cell_type": "markdown",
"metadata": {},
"source": [
"Question: How can you set a default theme for all your plots to ensure a consistent and professional look?"
]
},
{
"cell_type": "code",
"execution_count": null,
"metadata": {},
"outputs": [],
"source": [
"# sns.set_theme() applies a default theme. 'style' is one of several parameters.\n",
"# 'whitegrid' is a popular choice for its clean look.\n",
"sns.set_theme(style=\"whitegrid\")"
]
},
{
"cell_type": "markdown",
"metadata": {},
"source": [
"## 2. Basic Plots: Visualizing a Single Variable\n",
"Let's start by looking at the distribution of data for a single variable."
]
},
{
"cell_type": "markdown",
"metadata": {},
"source": [
"Question: How do you create a simple histogram to see the frequency distribution of a list of numbers?"
]
},
{
"cell_type": "code",
"execution_count": null,
"metadata": {},
"outputs": [],
"source": [
"# Let's define some sample data first\n",
"data = [1, 2, 2, 3, 3, 3, 4, 4, 5, 5, 5, 5, 6, 6, 7]\n",
"\n",
"# sns.histplot() is used to create a histogram.\n",
"# 'bins' controls how many bars the data is grouped into.\n",
"sns.histplot(data=data, bins=5)\n",
"\n",
"plt.title('Simple Histogram')\n",
"plt.xlabel('Value')\n",
"plt.ylabel('Frequency')\n",
"plt.show()"
]
},
{
"cell_type": "markdown",
"metadata": {},
"source": [
"Question: How can you add a Kernel Density Estimate (KDE) line to the histogram to better visualize the shape of the distribution?"
]
},
{
"cell_type": "code",
"execution_count": null,
"metadata": {},
"outputs": [],
"source": [
"# The 'kde=True' parameter automatically calculates and plots the density curve.\n",
"sns.histplot(data=data, kde=True, bins=5)\n",
"\n",
"plt.title('Histogram with KDE')\n",
"plt.xlabel('Value')\n",
"plt.ylabel('Frequency')\n",
"plt.show()"
]
},
{
"cell_type": "markdown",
"metadata": {},
"source": [
"## 3. Statistical Plots: Exploring Relationships\n",
"Now, let's explore how two different variables relate to each other."
]
},
{
"cell_type": "markdown",
"metadata": {},
"source": [
"Question: How do you load one of Seaborn's built-in sample datasets, for example, the 'tips' dataset?"
]
},
{
"cell_type": "code",
"execution_count": null,
"metadata": {},
"outputs": [],
"source": [
"# Seaborn comes with several useful datasets for practice.\n",
"tips = sns.load_dataset('tips')\n",
"\n",
"# Let's preview the first 5 rows to understand its structure\n",
"tips.head()"
]
},
{
"cell_type": "markdown",
"metadata": {},
"source": [
"Question: How can you visualize the relationship between two numerical variables ('total_bill' and 'tip') and also see the regression line that fits this data?"
]
},
{
"cell_type": "code",
"execution_count": null,
"metadata": {},
"outputs": [],
"source": [
"# sns.lmplot() creates a scatter plot and fits a linear regression model.\n",
"sns.lmplot(x='total_bill', y='tip', data=tips, height=6, aspect=1.5)\n",
"\n",
"plt.title('Total Bill vs Tip with Regression Line')\n",
"plt.show()"
]
},
{
"cell_type": "markdown",
"metadata": {},
"source": [
"Question: How can you create a box plot to show the distribution of 'total_bill' for each 'day' of the week?"
]
},
{
"cell_type": "code",
"execution_count": null,
"metadata": {},
"outputs": [],
"source": [
"# A box plot is excellent for comparing distributions across categories.\n",
"# It shows the median, quartiles, and potential outliers.\n",
"sns.boxplot(x='day', y='total_bill', data=tips)\n",
"\n",
"plt.title('Daily Bill Distribution')\n",
"plt.show()"
]
},
{
"cell_type": "markdown",
"metadata": {},
"source": [
"## 4. Customizing Plots with Seaborn\n",
"Make your visualizations more informative and visually appealing by customizing them."
]
},
{
"cell_type": "markdown",
"metadata": {},
"source": [
"Question: How can you customize a plot's appearance by changing its style and color palette?"
]
},
{
"cell_type": "code",
"execution_count": null,
"metadata": {},
"outputs": [],
"source": [
"# You can set the style and palette globally for all subsequent plots.\n",
"sns.set_style(\"darkgrid\")\n",
"sns.set_palette(\"husl\") # 'husl' is a palette good for categorical data.\n",
"\n",
"# Let's create a bar plot to see the effect.\n",
"sns.barplot(x='day', y='total_bill', data=tips)\n",
"\n",
"plt.title('Daily Bill Averages with Custom Style')\n",
"plt.show()\n",
"\n",
"# Let's reset to our default for the rest of the tutorial\n",
"sns.set_theme(style=\"whitegrid\", palette=\"deep\")"
]
},
{
"cell_type": "markdown",
"metadata": {},
"source": [
"Question: How can you customize a single plot by mapping data variables to aesthetic properties like color (hue) and size?"
]
},
{
"cell_type": "code",
"execution_count": null,
"metadata": {},
"outputs": [],
"source": [
"# sns.relplot is great for relational plots (like scatter plots).\n",
"# hue: colors points based on a categorical variable ('size' of the party).\n",
"# size: changes the size of points based on a numerical or categorical variable.\n",
"# palette: specifies the color map to use for the 'hue' variable.\n",
"# sizes: specifies the min and max size of the points.\n",
"scatter = sns.relplot(\n",
"    x='total_bill', \n",
"    y='tip', \n",
"    data=tips,\n",
"    height=6,\n",
"    aspect=1.2,\n",
"    hue='size',        # Color by party size\n",
"    palette='viridis', # Use the 'viridis' color palette\n",
"    size='size',       # Vary point size by party size\n",
"    sizes=(20, 200)    # Range of point sizes\n",
")\n",
"\n",
"scatter.fig.suptitle('Customized Scatter Plot', y=1.03)\n",
"plt.show()"
]
},
{
"cell_type": "markdown",
"metadata": {},
"source": [
"## 5. Handling and Visualizing Categorical Data\n",
"Categorical data is common in AI/ML. Let's see how to visualize it effectively."
]
},
{
"cell_type": "markdown",
"metadata": {},
"source": [
"Question: How can you use catplot to create a violin plot that shows the distribution of 'total_bill' by 'day', further split by 'sex'?"
]
},
{
"cell_type": "code",
"execution_count": null,
"metadata": {},
"outputs": [],
"source": [
"# sns.catplot is a versatile function for plotting categorical data.\n",
"# kind='violin': shows the distribution shape (like a KDE) and a boxplot inside.\n",
"# hue='sex': creates separate violins for 'Male' and 'Female'.\n",
"# split=True: combines the 'hue' violins into a single, split violin for easier comparison.\n",
"sns.catplot(\n",
"    x='day', \n",
"    y='total_bill', \n",
"    hue='sex',\n",
"    data=tips, \n",
"    kind='violin',\n",
"    split=True,\n",
"    height=6,\n",
"    aspect=1.5\n",
")\n",
"\n",
"plt.title('Bill Distribution by Day and Gender')\n",
"plt.show()"
]
},
{
"cell_type": "markdown",
"metadata": {},
"source": [
"## 6. Creating Multi-Plot Grids\n",
"Sometimes you need to create many similar plots for different subsets of your data. FacetGrid makes this easy."
]
},
{
"cell_type": "markdown",
"metadata": {},
"source": [
"Question: How can you create a grid of scatter plots showing the 'total_bill' vs 'tip' relationship, but with separate plots for each combination of 'time' (Lunch/Dinner) and 'smoker' (Yes/No)?"
]
},
{
"cell_type": "code",
"execution_count": null,
"metadata": {},
"outputs": [],
"source": [
"# 1. Initialize a FacetGrid, specifying the data and the variables for rows and columns.\n",
"grid = sns.FacetGrid(tips, col='time', row='smoker', height=4, aspect=1.2)\n",
"\n",
"# 2. Use the .map() method to apply a plotting function to each subset of the data.\n",
"grid.map(sns.scatterplot, 'total_bill', 'tip')\n",
"\n",
"grid.fig.suptitle('Multi-Plot Grid by Time and Smoking Status', y=1.03)\n",
"plt.show()"
]
},
{
"cell_type": "markdown",
"metadata": {},
"source": [
"## 7. PairPlots and Heatmaps: The Big Picture\n",
"These plots are essential for quickly exploring all relationships in a dataset."
]
},
{
"cell_type": "markdown",
"metadata": {},
"source": [
"Question: How can you visualize the pairwise relationships between all numerical variables in a dataset at once? Let's use the 'iris' dataset."
]
},
{
"cell_type": "code",
"execution_count": null,
"metadata": {},
"outputs": [],
"source": [
"# First, load the iris dataset\n",
"iris = sns.load_dataset('iris')\n",
"\n",
"# sns.pairplot creates a grid where diagonals are histograms of each variable,\n",
"# and off-diagonals are scatter plots of each pair of variables.\n",
"# hue='species' colors the plots by the flower species.\n",
"sns.pairplot(iris, hue='species', height=2.5)\n",
"\n",
"plt.suptitle('Pairwise Relationships in Iris Dataset', y=1.02)\n",
"plt.show()"
]
},
{
"cell_type": "markdown",
"metadata": {},
"source": [
"Question: How do you compute a correlation matrix and visualize it as a heatmap to easily identify which variables are strongly correlated?"
]
},
{
"cell_type": "code",
"execution_count": null,
"metadata": {},
"outputs": [],
"source": [
"# 1. Calculate the correlation matrix for numeric columns only.\n",
"corr = iris.corr(numeric_only=True)\n",
"\n",
"# 2. Use sns.heatmap to visualize the matrix.\n",
"# annot=True: writes the correlation value in each cell.\n",
"# cmap='coolwarm': uses a color map where positive correlations are warm (red)\n",
"# and negative correlations are cool (blue).\n",
"plt.figure(figsize=(8, 6))\n",
"sns.heatmap(corr, annot=True, cmap='coolwarm')\n",
"\n",
"plt.title('Correlation Heatmap')\n",
"plt.show()"
]
},
{
"cell_type": "markdown",
"metadata": {},
"source": [
"## 8. Integrating Seaborn with Matplotlib\n",
"Combine the power of Seaborn's high-level functions with Matplotlib's customization capabilities."
]
},
{
"cell_type": "markdown",
"metadata": {},
"source": [
"Question: How can you create a figure with two subplots side-by-side, placing a Seaborn plot on the left axis and a standard Matplotlib plot on the right?"
]
},
{
"cell_type": "code",
"execution_count": null,
"metadata": {},
"outputs": [],
"source": [
"# 1. Create a figure and a set of subplots with Matplotlib.\n",
"fig, (ax1, ax2) = plt.subplots(1, 2, figsize=(12, 5))\n",
"\n",
"# 2. Create the Seaborn plot, specifying the target axis with the 'ax' parameter.\n",
"sns.scatterplot(x='total_bill', y='tip', data=tips, ax=ax1)\n",
"ax1.set_title('Seaborn Scatter Plot')\n",
"\n",
"# 3. Create the Matplotlib plot on the other axis.\n",
"ax2.hist(tips['total_bill'], bins=15, color='skyblue', edgecolor='black')\n",
"ax2.set_title('Matplotlib Histogram')\n",
"\n",
"plt.tight_layout() # Adjusts plot parameters for a tight layout\n",
"plt.show()"
]
},
{
"cell_type": "markdown",
"metadata": {},
"source": [
"## 9. Advanced Visualization for AI/ML\n",
"Let's apply our skills to common tasks in a machine learning workflow, like exploratory data analysis (EDA) and model evaluation."
]
},
{
"cell_type": "markdown",
"metadata": {},
"source": [
"Question: In EDA for a classification problem, how can you visualize and compare the distributions of multiple features at once? (Using the 'wine' dataset)."
]
},
{
"cell_type": "code",
"execution_count": null,
"metadata": {},
"outputs": [],
"source": [
"# First, we need more libraries, including one for dataframes and the dataset\n",
"import pandas as pd\n",
"from sklearn.datasets import load_wine\n",
"\n",
"# Load and prepare the data\n",
"wine_data = load_wine()\n",
"wine_df = pd.DataFrame(wine_data.data, columns=wine_data.feature_names)\n",
"\n",
"# A violin plot is great for comparing multiple distributions.\n",
"plt.figure(figsize=(12, 7))\n",
"sns.violinplot(data=wine_df.iloc[:, :5], inner=\"quartile\", palette=\"Set3\")\n",
"plt.title('Feature Distributions for Wine Dataset')\n",
"plt.xticks(rotation=45)\n",
"plt.show()"
]
},
{
"cell_type": "markdown",
"metadata": {},
"source": [
"Question: After training a classifier, a confusion matrix is used to evaluate its performance. How can you use a Seaborn heatmap to create a clear and informative visualization of a confusion matrix?"
]
},
{
"cell_type": "code",
"execution_count": null,
"metadata": {},
"outputs": [],
"source": [
"# Import necessary scikit-learn modules\n",
"from sklearn.metrics import confusion_matrix\n",
"from sklearn.model_selection import train_test_split\n",
"from sklearn.ensemble import RandomForestClassifier\n",
"\n",
"# 1. Prepare data and train a simple model\n",
"X_train, X_test, y_train, y_test = train_test_split(\n",
"    wine_data.data, wine_data.target, test_size=0.3, random_state=42)\n",
"model = RandomForestClassifier(random_state=42)\n",
"model.fit(X_train, y_train)\n",
"y_pred = model.predict(X_test)\n",
"\n",
"# 2. Calculate the confusion matrix\n",
"cm = confusion_matrix(y_test, y_pred)\n",
"\n",
"# 3. Plot the confusion matrix using a heatmap\n",
"plt.figure(figsize=(8, 6))\n",
"sns.heatmap(cm, annot=True, fmt='d', cmap='Blues', \n",
"            xticklabels=wine_data.target_names, \n",
"            yticklabels=wine_data.target_names)\n",
"plt.title('Confusion Matrix for Wine Classification')\n",
"plt.ylabel('True Label')\n",
"plt.xlabel('Predicted Label')\n",
"plt.show()"
]
},
{
"cell_type": "markdown",
"metadata": {},
"source": [
"## 10. Conclusion and Next Steps\n",
"\n",
"Congratulations! You've just completed a comprehensive tour of the Seaborn library, from basic plots to advanced AI/ML applications.\n",
"\n",
"### Key Concepts Covered:\n",
"- Setup: Importing seaborn as sns and setting themes.\n",
"- Basic Plots: Using histplot to understand distributions.\n",
"- Statistical Relationships: Using lmplot, boxplot, and catplot to compare variables.\n",
"- Customization: Modifying aesthetics with set_style, set_palette, and parameters like hue and size.\n",
"- Advanced Layouts: Creating multi-plot figures with FacetGrid.\n",
"- Matrix Plots: Getting a high-level overview with pairplot and heatmap.\n",
"- AI/ML Applications: Visualizing feature distributions and model performance (confusion matrix).\n",
"\n",
"### Recommended Next Steps:\n",
"1.  Practice: Use the functions you learned here on a new dataset. Try the titanic or fmri datasets (sns.load_dataset('titanic')).\n",
"2.  Explore: Visit the official Seaborn example gallery for inspiration and code for many more plot types.\n",
"3.  Deepen Knowledge: Read the official documentation for functions that interest you to learn about all their parameters and capabilities.\n",
"\n",
"Happy visualizing in 2025! 🚀"
]
}
],
"metadata": {
"kernelspec": {
"display_name": "Python 3",
"language": "python",
"name": "python3"
},
"language_info": {
"codemirror_mode": {
"name": "ipython",
"version": 3
},
"file_extension": ".py",
"mimetype": "text/x-python",
"name": "python",
"nbconvert_exporter": "python",
"pygments_lexer": "ipython3",
"version": "3.9.0"
}
},
"nbformat": 4,
"nbformat_minor": 4
}