{
 "cells": [
  {
   "cell_type": "markdown",
   "metadata": {},
   "source": [
    "# **Matplotlib for AI Engineers (2025): A Q&A Tutorial**\n",
    "*This Jupyter Notebook provides a structured question-and-answer approach to learning Matplotlib, designed for AI Engineers and beginners. The content progresses from fundamental concepts to more advanced plotting techniques, enabling incremental learning and practical application.*"
   ]
  },
  {
   "cell_type": "markdown",
   "metadata": {},
   "source": [
    "## **1. Importing Matplotlib**\n",
    "\n",
    "**Question:** How do you import the Matplotlib library in Python, specifically the `pyplot` module, which is commonly used for plotting? What is the standard alias for `pyplot`, and how do you enable inline plotting for Jupyter notebooks?"
   ]
  },
  {
   "cell_type": "code",
   "execution_count": null,
   "metadata": {},
   "outputs": [],
   "source": [
    "import matplotlib.pyplot as plt\n",
    "%matplotlib inline  # For Jupyter notebook display"
   ]
  },
  {
   "cell_type": "markdown",
   "metadata": {},
   "source": [
    "*Explanation: `import matplotlib.pyplot as plt` imports the `pyplot` module and assigns it the conventional alias `plt`, making it easier to call functions. `%matplotlib inline` is a Jupyter-specific magic command that ensures plots are displayed directly within the notebook output.*"
   ]
  },
  {
   "cell_type": "markdown",
   "metadata": {},
   "source": [
    "## **2. Basic Plotting**\n",
    "\n",
    "**Question:** How can you create a simple line plot using Matplotlib? Define some sample `x` and `y` data, then plot them, add labels for the x and y axes, and give the plot a title. Finally, display the plot."
   ]
  },
  {
   "cell_type": "code",
   "execution_count": null,
   "metadata": {},
   "outputs": [],
   "source": [
    "x = [1, 2, 3, 4, 5]\n",
    "y = [10, 20, 25, 40, 50]\n",
    "\n",
    "plt.plot(x, y)\n",
    "plt.xlabel('x-axis')\n",
    "plt.ylabel('y-axis')\n",
    "plt.title('Simple Line Plot')\n",
    "plt.show()"
   ]
  },
  {
   "cell_type": "markdown",
   "metadata": {},
   "source": [
    "*Explanation: `plt.plot(x, y)` creates the line plot. `plt.xlabel()`, `plt.ylabel()`, and `plt.title()` are used to add descriptive text. `plt.show()` renders the plot.*"
   ]
  },
  {
   "cell_type": "markdown",
   "metadata": {},
   "source": [
    "**Question:** How can you create a scatter plot using the same `x` and `y` data? Customize the points to be red circles."
   ]
  },
  {
   "cell_type": "code",
   "execution_count": null,
   "metadata": {},
   "outputs": [],
   "source": [
    "plt.scatter(x, y, color='red', marker='o')\n",
    "plt.xlabel('x-axis')\n",
    "plt.ylabel('y-axis')\n",
    "plt.title('Scatter Plot')\n",
    "plt.show()"
   ]
  },
  {
   "cell_type": "markdown",
   "metadata": {},
   "source": [
    "*Explanation: `plt.scatter()` is used for scatter plots. `color='red'` sets the color, and `marker='o'` sets the marker style to circles.*"
   ]
  },
  {
   "cell_type": "markdown",
   "metadata": {},
   "source": [
    "## **3. Customizing Plots**\n",
    "\n",
    "**Question:** How can you extensively customize the line style, color, width, marker, marker size, and marker face color in a line plot? Use the existing `x` and `y` data."
   ]
  },
  {
   "cell_type": "code",
   "execution_count": null,
   "metadata": {},
   "outputs": [],
   "source": [
    "plt.plot(x, y, \n",
    "         linestyle='--', \n",
    "         color='r',\n",
    "         linewidth=2,\n",
    "         marker='o',\n",
    "         markersize=8,\n",
    "         markerfacecolor='blue')\n",
    "plt.xlabel('x-axis')\n",
    "plt.ylabel('y-axis')\n",
    "plt.title('Customized Line Plot')\n",
    "plt.show()"
   ]
  },
  {
   "cell_type": "markdown",
   "metadata": {},
   "source": [
    "*Explanation: Parameters like `linestyle`, `color`, `linewidth`, `marker`, `markersize`, and `markerfacecolor` provide fine-grained control over the appearance of the plotted line and markers.*"
   ]
  },
  {
   "cell_type": "markdown",
   "metadata": {},
   "source": [
    "## **4. Plotting Multiple Figures**\n",
    "\n",
    "**Question:** How can you plot multiple lines on the same figure? Create a second `y` dataset (`y2`) and plot both `y` and `y2` against `x` on the same graph. Include a legend to distinguish between the lines."
   ]
  },
  {
   "cell_type": "code",
   "execution_count": null,
   "metadata": {},
   "outputs": [],
   "source": [
    "y2 = [5, 15, 30, 35, 45]\n",
    "\n",
    "plt.plot(x, y, label='Line 1')\n",
    "plt.plot(x, y2, label='Line 2')\n",
    "plt.xlabel('x-axis')\n",
    "plt.ylabel('y-axis')\n",
    "plt.title('Multiple Lines Plot')\n",
    "plt.legend()\n",
    "plt.show()"
   ]
  },
  {
   "cell_type": "markdown",
   "metadata": {},
   "source": [
    "*Explanation: Calling `plt.plot()` multiple times before `plt.show()` adds multiple lines to the same axes. `label` within `plt.plot()` assigns a name to each line, and `plt.legend()` displays these labels.*"
   ]
  },
  {
   "cell_type": "markdown",
   "metadata": {},
   "source": [
    "## **5. Subplots**\n",
    "\n",
    "**Question:** How can you create multiple subplots within a single figure? Create a figure with two subplots side-by-side. In the first subplot, plot a line graph of `x` vs `y`. In the second subplot, create a scatter plot of `x` vs `y2`. Give each subplot its own title."
   ]
  },
  {
   "cell_type": "code",
   "execution_count": null,
   "metadata": {},
   "outputs": [],
   "source": [
    "fig, (ax1, ax2) = plt.subplots(1, 2, figsize=(10, 4))\n",
    "\n",
    "ax1.plot(x, y, color='red')\n",
    "ax1.set_title('First Plot')\n",
    "\n",
    "ax2.scatter(x, y2, color='blue')\n",
    "ax2.set_title('Second Plot')\n",
    "\n",
    "plt.tight_layout()\n",
    "plt.show()"
   ]
  },
  {
   "cell_type": "markdown",
   "metadata": {},
   "source": [
    "*Explanation: `plt.subplots(1, 2)` creates a figure (`fig`) and a set of subplots (`ax1`, `ax2`) arranged in 1 row and 2 columns. We then plot on each `ax` object independently and use `plt.tight_layout()` to prevent labels from overlapping.*"
   ]
  },
  {
   "cell_type": "markdown",
   "metadata": {},
   "source": [
    "## **6. Plot Styles**\n",
    "\n",
    "**Question:** How can you change the overall style of your plots to a predefined Matplotlib style, for example, 'ggplot'?"
   ]
  },
  {
   "cell_type": "code",
   "execution_count": null,
   "metadata": {},
   "outputs": [],
   "source": [
    "plt.style.use('ggplot')\n",
    "plt.plot(x, y)\n",
    "plt.title('Plot with ggplot Style')\n",
    "plt.show()"
   ]
  },
  {
   "cell_type": "markdown",
   "metadata": {},
   "source": [
    "*Explanation: `plt.style.use('style_name')` applies a predefined visual style to all subsequent plots. 'ggplot' is a popular style that mimics the aesthetics of R's ggplot2 library.*"
   ]
  },
  {
   "cell_type": "markdown",
   "metadata": {},
   "source": [
    "## **7. Adding Titles and Labels**\n",
    "\n",
    "**Question:** How can you add a detailed plot title and axis labels, including customizing their font size and weight? Also, how do you add a grid to the plot for better readability?"
   ]
  },
  {
   "cell_type": "code",
   "execution_count": null,
   "metadata": {},
   "outputs": [],
   "source": [
    "plt.plot(x, y)\n",
    "plt.title('Detailed Plot Title', fontsize=14, fontweight='bold')\n",
    "plt.xlabel('X Axis Label', fontsize=12)\n",
    "plt.ylabel('Y Axis Label', fontsize=12)\n",
    "plt.grid(True)\n",
    "plt.show()"
   ]
  },
  {
   "cell_type": "markdown",
   "metadata": {},
   "source": [
    "*Explanation: `fontsize` and `fontweight` arguments allow for customization of text. `plt.grid(True)` displays a grid on the plot background.*"
   ]
  },
  {
   "cell_type": "markdown",
   "metadata": {},
   "source": [
    "## **8. Legends and Annotations**\n",
    "\n",
    "**Question:** How can you add a legend to differentiate between multiple plot elements and annotate a specific point on the plot with an arrow? Plot `y` as a line and `y2` as scatter points, and then add an annotation."
   ]
  },
  {
   "cell_type": "code",
   "execution_count": null,
   "metadata": {},
   "outputs": [],
   "source": [
    "plt.plot(x, y, label='Data Line')\n",
    "plt.scatter(x, y2, color='red', label='Data Points')\n",
    "plt.legend(loc='upper left')\n",
    "plt.annotate('Important Point', xy=(3, 25), xytext=(4, 20),\n",
    "             arrowprops=dict(facecolor='black', shrink=0.05))\n",
    "plt.title('Plot with Legend and Annotation')\n",
    "plt.show()"
   ]
  },
  {
   "cell_type": "markdown",
   "metadata": {},
   "source": [
    "*Explanation: `plt.legend(loc='upper left')` positions the legend. `plt.annotate()` adds text with an optional arrow, with `xy` for the annotated point and `xytext` for the text position. `arrowprops` customizes the arrow.*"
   ]
  },
  {
   "cell_type": "markdown",
   "metadata": {},
   "source": [
    "## **9. Saving Figures**\n",
    "\n",
    "**Question:** How can you save a Matplotlib plot to a file, specifying the filename, resolution (DPI), and ensuring that all elements of the plot are included without being cut off?"
   ]
  },
  {
   "cell_type": "code",
   "execution_count": null,
   "metadata": {},
   "outputs": [],
   "source": [
    "plt.plot(x, y)\n",
    "plt.title('Plot to be Saved')\n",
    "plt.savefig('my_plot.png', dpi=300, bbox_inches='tight')\n",
    "plt.show()"
   ]
  },
  {
   "cell_type": "markdown",
   "metadata": {},
   "source": [
    "*Explanation: `plt.savefig('filename.png', dpi=300, bbox_inches='tight')` saves the current figure. `dpi` controls the resolution, and `bbox_inches='tight'` automatically adjusts the bounding box to include all plot elements.*"
   ]
  },
  {
   "cell_type": "markdown",
   "metadata": {},
   "source": [
    "## **10. Advanced Plots**\n",
    "\n",
    "**Question:** How can you create a 3D surface plot using Matplotlib? Import the necessary module, generate appropriate 3D data (e.g., a sine wave surface), and then plot it."
   ]
  },
  {
   "cell_type": "code",
   "execution_count": null,
   "metadata": {},
   "outputs": [],
   "source": [
    "from mpl_toolkits.mplot3d import Axes3D\n",
    "import numpy as np\n",
    "\n",
    "fig = plt.figure(figsize=(8, 6))\n",
    "ax = fig.add_subplot(111, projection='3d')\n",
    "\n",
    "x_3d = np.linspace(-5, 5, 100)\n",
    "y_3d = np.linspace(-5, 5, 100)\n",
    "X, Y = np.meshgrid(x_3d, y_3d)\n",
    "Z = np.sin(np.sqrt(X**2 + Y**2))\n",
    "\n",
    "ax.plot_surface(X, Y, Z, cmap='viridis')\n",
    "ax.set_title('3D Surface Plot')\n",
    "plt.show()"
   ]
  },
  {
   "cell_type": "markdown",
   "metadata": {},
   "source": [
    "*Explanation: The `mpl_toolkits.mplot3d` module is essential for 3D plotting. `fig.add_subplot(111, projection='3d')` creates a 3D axes. `np.meshgrid` is used to create a 2D grid for the X and Y coordinates, which are then used to calculate the Z values. `ax.plot_surface()` generates the 3D surface.*"
   ]
  },
  {
   "cell_type": "markdown",
   "metadata": {},
   "source": [
    "**Question:** How can you create an interactive plot in a Jupyter Notebook, allowing users to dynamically change a plot parameter using a slider?"
   ]
  },
  {
   "cell_type": "code",
   "execution_count": null,
   "metadata": {},
   "outputs": [],
   "source": [
    "%matplotlib widget  # For interactive plots in Jupyter\n",
    "from ipywidgets import interact\n",
    "\n",
    "def plot_sine_wave(frequency=1.0):\n",
    "    x_interactive = np.linspace(0, 2*np.pi, 1000)\n",
    "    y_interactive = np.sin(frequency * x_interactive)\n",
    "    plt.figure(figsize=(8, 4))\n",
    "    plt.plot(x_interactive, y_interactive)\n",
    "    plt.title(f'Sine Wave with Frequency {frequency}')\n",
    "    plt.grid(True)\n",
    "    plt.show()\n",
    "\n",
    "interact(plot_sine_wave, frequency=(0.1, 5.0, 0.1));"
   ]
  },
  {
   "cell_type": "markdown",
   "metadata": {},
   "source": [
    "*Explanation: `%matplotlib widget` enables interactive backend. `ipywidgets.interact` automatically creates UI controls (like sliders) for function arguments. Here, it creates a slider for `frequency` and updates the sine wave plot in real-time.*"
   ]
  },
  {
   "cell_type": "markdown",
   "metadata": {},
   "source": [
    "## **Concluding Note & Next Steps**\n",
    "\n",
    "This tutorial has walked you through the essential functionalities of the Matplotlib library, covering: \n",
    "\n",
    "* **Importing Matplotlib:** The standard way to get started.\n",
    "* **Basic Plotting:** Creating line and scatter plots.\n",
    "* **Customizing Plots:** Controlling appearance with various parameters.\n",
    "* **Multiple Plots:** Displaying several lines on one figure.\n",
    "* **Subplots:** Arranging multiple plots within a single figure.\n",
    "* **Plot Styles:** Applying predefined visual themes.\n",
    "* **Titles and Labels:** Making your plots informative.\n",
    "* **Legends and Annotations:** Enhancing readability and highlighting data.\n",
    "* **Saving Figures:** Exporting your visualizations.\n",
    "* **Advanced Plots:** Introduction to 3D and interactive plotting.\n",
    "\n",
    "To continue your Matplotlib journey and master data visualization for AI/ML projects, consider these next steps:\n",
    "\n",
    "1.  **Practice Regularly:** Experiment with different datasets and plot types.\n",
    "2.  **Explore More Plot Types:** Learn about histograms, bar charts, heatmaps, etc.\n",
    "3.  **Object-Oriented Interface:** Delve deeper into the `Figure` and `Axes` objects for more programmatic control.\n",
    "4.  **Matplotlib Gallery:** Browse the official Matplotlib gallery for inspiration and code examples.\n",
    "5.  **Integration with Pandas and NumPy:** Understand how to plot directly from data structures.\n",
    "6.  **Seaborn:** Explore Seaborn, a higher-level plotting library built on Matplotlib, for statistical visualizations.\n",
    "\n",
    "*Happy visualizing in 2025! 🚀*"
   ]
  }
 ],
 "metadata": {
  "kernelspec": {
   "display_name": "Python 3",
   "language": "python",
   "name": "python3"
  },
  "language_info": {
   "codemirror_mode": {
    "name": "ipython",
    "version": 3
   },
   "file_extension": ".py",
   "mimetype": "text/x-python",
   "name": "python",
   "nbconvert_exporter": "python",
   "pygments_lexer": "ipython3",
   "version": "3.9.0"
  }
 },
 "nbformat": 4,
 "nbformat_minor": 4
}