{
"cells": [
{
"cell_type": "markdown",
"metadata": {},
"source": [
"# Pandas for AI Engineers: A Q&A Tutorial (2025)\n",
"\n",
"Welcome to this hands-on tutorial on pandas! We'll explore this powerful library through a series of questions and answers, designed to take you from beginner to proficient. Let's get started!"
]
},
{
"cell_type": "markdown",
"metadata": {},
"source": [
"## 1. Getting Started with Pandas"
]
},
{
"cell_type": "markdown",
"metadata": {},
"source": [
"Question: Write a single line of code to import the pandas library. What is the syntax?"
]
},
{
"cell_type": "code",
"execution_count": null,
"metadata": {},
"outputs": [],
"source": [
"import pandas as pd"
]
},
{
"cell_type": "markdown",
"metadata": {},
"source": [
"## 2. Fundamental Data Structures: Series and DataFrames"
]
},
{
"cell_type": "markdown",
"metadata": {},
"source": [
"Question: What is a pandas Series and how do you create one from a list?"
]
},
{
"cell_type": "code",
"execution_count": null,
"metadata": {},
"outputs": [
{
"name": "stdout",
"output_type": "stream",
"text": [
"0    25\n",
"1    30\n",
"2    35\n",
"Name: Age, dtype: int64\n"
]
}
],
"source": [
"ages = pd.Series([25, 30, 35], name='Age')\n",
"print(ages)"
]
},
{
"cell_type": "markdown",
"metadata": {},
"source": [
"Question: How can you create a DataFrame from a Python dictionary?"
]
},
{
"cell_type": "code",
"execution_count": null,
"metadata": {},
"outputs": [
{
"name": "stdout",
"output_type": "stream",
"text": [
"      Name  Age         City\n",
"0    Alice   25     New York\n",
"1      Bob   30  Los Angeles\n",
"2  Charlie   35      Chicago\n"
]
}
],
"source": [
"data = {\n",
"    'Name': ['Alice', 'Bob', 'Charlie'],\n",
"    'Age': [25, 30, 35],\n",
"    'City': ['New York', 'Los Angeles', 'Chicago']\n",
"}\n",
"df = pd.DataFrame(data)\n",
"print(df)"
]
},
{
"cell_type": "markdown",
"metadata": {},
"source": [
"## 3. Inspecting Your Data"
]
},
{
"cell_type": "markdown",
"metadata": {},
"source": [
"Question: How do you view the first few rows of a DataFrame?"
]
},
{
"cell_type": "code",
"execution_count": null,
"metadata": {},
"outputs": [
{
"data": {
"text/html": [
"\n",
"\n",
"    .dataframe tbody tr th:only-of-type {\n",
"        vertical-align: middle;\n",
"    }\n",
"\n",
"    .dataframe tbody tr th {\n",
"        vertical-align: top;\n",
"    }\n",
"\n",
"    .dataframe thead th {\n",
"        text-align: right;\n",
"    }\n",
"\n",
"<table border=\"1\" class=\"dataframe\">\n",
"  \n",
"    <tr style=\"text-align: right;\">\n",
"      \n",
"      Name\n",
"      Age\n",
"      City\n",
"    \n",
"  \n",
"  \n",
"    \n",
"      0\n",
"      Alice\n",
"      25\n",
"      New York\n",
"    \n",
"    \n",
"      1\n",
"      Bob\n",
"      30\n",
"      Los Angeles\n",
"    \n",
"    \n",
"      2\n",
"      Charlie\n",
"      35\n",
"      Chicago\n",
"    \n",
"  \n",
"\n",
""
],
"text/plain": [
"      Name  Age         City\n",
"0    Alice   25     New York\n",
"1      Bob   30  Los Angeles\n",
"2  Charlie   35      Chicago"
]
},
"execution_count": 5,
"metadata": {},
"output_type": "execute_result"
}
],
"source": [
"df.head(3)"
]
},
{
"cell_type": "markdown",
"metadata": {},
"source": [
"Question: How can you get a summary of the numerical columns in your DataFrame?"
]
},
{
"cell_type": "code",
"execution_count": null,
"metadata": {},
"outputs": [
{
"data": {
"text/html": [
"\n",
"\n",
"    .dataframe tbody tr th:only-of-type {\n",
"        vertical-align: middle;\n",
"    }\n",
"\n",
"    .dataframe tbody tr th {\n",
"        vertical-align: top;\n",
"    }\n",
"\n",
"    .dataframe thead th {\n",
"        text-align: right;\n",
"    }\n",
"\n",
"<table border=\"1\" class=\"dataframe\">\n",
"  \n",
"    <tr style=\\\"text-align: right;\\\">\\n",
"      \n",
"      Age\n",
"    \n",
"  \n",
"  \n",
"    \n",
"      count\n",
"      3.0\n",
"    \n",
"    \n",
"      mean\n",
"      30.0\n",
"    \n",
"    \n",
"      std\n",
"      5.0\n",
"    \n",
"    \n",
"      min\n",
"      25.0\n",
"    \n",
"    \n",
"      25%\n",
"      27.5\n",
"    \n",
"    \n",
"      50%\n",
"      30.0\n",
"    \n",
"    \n",
"      75%\n",
"      32.5\n",
"    \n",
"    \n",
"      max\n",
"      35.0\n",
"    \n",
"  \n",
"\n",
""
],
"text/plain": [
"             Age\n",
"count   3.000000\n",
"mean   30.000000\n",
"std     5.000000\n",
"min    25.000000\n",
"25%    27.500000\n",
"50%    30.000000\n",
"75%    32.500000\n",
"max    35.000000"
]
},
"execution_count": 6,
"metadata": {},
"output_type": "execute_result"
}
],
"source": [
"df.describe()"
]
},
{
"cell_type": "markdown",
"metadata": {},
"source": [
"Question: How do you select a single column or multiple columns from a DataFrame?"
]
},
{
"cell_type": "code",
"execution_count": null,
"metadata": {},
"outputs": [
{
"name": "stdout",
"output_type": "stream",
"text": [
"0      Alice\n",
"1        Bob\n",
"2    Charlie\n",
"Name: Name, dtype: object\n",
"      Name  Age\n",
"0    Alice   25\n",
"1      Bob   30\n",
"2  Charlie   35\n"
]
}
],
"source": [
"print(df['Name'])  # Single column\n",
"print(df[['Name', 'Age']])  # Multiple columns"
]
},
{
"cell_type": "markdown",
"metadata": {},
"source": [
"## 4. Handling Missing Data"
]
},
{
"cell_type": "markdown",
"metadata": {},
"source": [
"Question: How can you create a DataFrame with missing values and then identify them?"
]
},
{
"cell_type": "code",
"execution_count": null,
"metadata": {},
"outputs": [
{
"name": "stdout",
"output_type": "stream",
"text": [
"       A      B\n",
"0  False  False\n",
"1  False   True\n",
"2   True  False\n",
"3  False  False\n"
]
}
],
"source": [
"df_missing = pd.DataFrame({\n",
"    'A': [1, 2, None, 4],\n",
"    'B': [5, None, 7, 8]\n",
"})\n",
"print(df_missing.isnull())"
]
},
{
"cell_type": "markdown",
"metadata": {},
"source": [
"Question: What are the common strategies for handling missing data? Show how to drop rows with missing values and how to fill them."
]
},
{
"cell_type": "code",
"execution_count": null,
"metadata": {},
"outputs": [
{
"name": "stdout",
"output_type": "stream",
"text": [
"     A    B\n",
"0  1.0  5.0\n",
"3  4.0  8.0\n",
"     A    B\n",
"0  1.0  5.0\n",
"1  2.0  0.0\n",
"2  0.0  7.0\n",
"3  4.0  8.0\n"
]
}
],
"source": [
"# Drop rows with any missing values\n",
"print(df_missing.dropna())\n",
"\n",
"# Fill missing values with 0\n",
"print(df_missing.fillna(0))"
]
},
{
"cell_type": "markdown",
"metadata": {},
"source": [
"## 5. Combining DataFrames"
]
},
{
"cell_type": "markdown",
"metadata": {},
"source": [
"Question: How do you concatenate two DataFrames vertically?"
]
},
{
"cell_type": "code",
"execution_count": null,
"metadata": {},
"outputs": [
{
"name": "stdout",
"output_type": "stream",
"text": [
"    A   B\n",
"0  A0  B0\n",
"1  A1  B1\n",
"2  A2  B2\n",
"3  A3  B3\n"
]
}
],
"source": [
"df1 = pd.DataFrame({'A': ['A0', 'A1'], 'B': ['B0', 'B1']})\n",
"df2 = pd.DataFrame({'A': ['A2', 'A3'], 'B': ['B2', 'B3']})\n",
"print(pd.concat([df1, df2], ignore_index=True))"
]
},
{
"cell_type": "markdown",
"metadata": {},
"source": [
"Question: How do you merge two DataFrames based on a common key?"
]
},
{
"cell_type": "code",
"execution_count": null,
"metadata": {},
"outputs": [
{
"name": "stdout",
"output_type": "stream",
"text": [
"  key   A   B\n",
"0  K0  A0  B0\n",
"1  K1  A1  B1\n"
]
}
],
"source": [
"left = pd.DataFrame({'key': ['K0', 'K1'], 'A': ['A0', 'A1']})\n",
"right = pd.DataFrame({'key': ['K0', 'K1'], 'B': ['B0', 'B1']})\n",
"print(pd.merge(left, right, on='key'))"
]
},
{
"cell_type": "markdown",
"metadata": {},
"source": [
"## 6. Grouping and Aggregation"
]
},
{
"cell_type": "markdown",
"metadata": {},
"source": [
"Question: How can you group a DataFrame by a column and calculate the mean of another column for each group?"
]
},
{
"cell_type": "code",
"execution_count": null,
"metadata": {},
"outputs": [
{
"name": "stdout",
"output_type": "stream",
"text": [
"              Salary\n",
"Department          \n",
"HR           72500.0\n",
"Tech         82500.0\n"
]
}
],
"source": [
"df_salary = pd.DataFrame({\n",
"    'Department': ['HR', 'Tech', 'HR', 'Tech'],\n",
"    'Employee': ['Alice', 'Bob', 'Charlie', 'David'],\n",
"    'Salary': [70000, 80000, 75000, 85000]\n",
"})\n",
"print(df_salary.groupby('Department')['Salary'].mean())"
]
},
{
"cell_type": "markdown",
"metadata": {},
"source": [
"## 7. Working with Time Series Data"
]
},
{
"cell_type": "markdown",
"metadata": {},
"source": [
"Question: How do you create a range of dates and set it as the index of a DataFrame?"
]
},
{
"cell_type": "code",
"execution_count": null,
"metadata": {},
"outputs": [
{
"name": "stdout",
"output_type": "stream",
"text": [
"            Value\n",
"Date             \n",
"2023-01-01      1\n",
"2023-01-02      2\n",
"2023-01-03      3\n",
"2023-01-04      4\n",
"2023-01-05      5\n",
"2023-01-06      6\n"
]
}
],
"source": [
"dates = pd.date_range('20230101', periods=6)\n",
"df_time = pd.DataFrame({'Value': range(1,7)}, index=dates)\n",
"print(df_time)"
]
},
{
"cell_type": "markdown",
"metadata": {},
"source": [
"## 8. Reading and Writing Data"
]
},
{
"cell_type": "markdown",
"metadata": {},
"source": [
"Question: How do you write a DataFrame to a CSV file and then read it back?"
]
},
{
"cell_type": "code",
"execution_count": null,
"metadata": {},
"outputs": [
{
"name": "stdout",
"output_type": "stream",
"text": [
"  Unnamed: 0  Value\n",
"0  2023-01-01      1\n",
"1  2023-01-02      2\n",
"2  2023-01-03      3\n",
"3  2023-01-04      4\n",
"4  2023-01-05      5\n"
]
}
],
"source": [
"# Writing to CSV\n",
"df_time.to_csv('sample_time_series.csv')\n",
"\n",
"# Reading from CSV\n",
"df_read = pd.read_csv('sample_time_series.csv')\n",
"print(df_read.head())"
]
},
{
"cell_type": "markdown",
"metadata": {},
"source": [
"## 9. Advanced: Applying Functions"
]
},
{
"cell_type": "markdown",
"metadata": {},
"source": [
"Question: How can you apply a custom function to every element in a DataFrame?"
]
},
{
"cell_type": "code",
"execution_count": null,
"metadata": {},
"outputs": [
{
"name": "stdout",
"output_type": "stream",
"text": [
"   A   B\n",
"0  2   8\n",
"1  4  10\n",
"2  6  12\n"
]
}
],
"source": [
"df_apply = pd.DataFrame({'A': [1, 2, 3], 'B': [4, 5, 6]})\n",
"print(df_apply.apply(lambda x: x * 2))"
]
},
{
"cell_type": "markdown",
"metadata": {},
"source": [
"## 10. Pandas for AI/ML: Feature Engineering"
]
},
{
"cell_type": "markdown",
"metadata": {},
"source": [
"Question: What is one-hot encoding and how can you perform it on a categorical feature?"
]
},
{
"cell_type": "code",
"execution_count": null,
"metadata": {},
"outputs": [
{
"name": "stdout",
"output_type": "stream",
"text": [
"   Color_Blue  Color_Green  Color_Red\n",
"0       False        False       True\n",
"1        True        False      False\n",
"2       False         True      False\n"
]
}
],
"source": [
"df_color = pd.DataFrame({'Color': ['Red', 'Blue', 'Green']})\n",
"print(pd.get_dummies(df_color, dtype=bool))"
]
},
{
"cell_type": "markdown",
"metadata": {},
"source": [
"Question: How can you normalize a numerical feature to a range between 0 and 1?"
]
},
{
"cell_type": "code",
"execution_count": null,
"metadata": {},
"outputs": [
{
"name": "stdout",
"output_type": "stream",
"text": [
"   Values  Normalized\n",
"0      10        0.00\n",
"1      20        0.25\n",
"2      30        0.50\n",
"3      40        0.75\n",
"4      50        1.00\n"
]
}
],
"source": [
"from sklearn.preprocessing import MinMaxScaler\n",
"\n",
"df_norm = pd.DataFrame({'Values': [10, 20, 30, 40, 50]})\n",
"scaler = MinMaxScaler()\n",
"df_norm['Normalized'] = scaler.fit_transform(df_norm[['Values']])\n",
"print(df_norm)"
]
},
{
"cell_type": "markdown",
"metadata": {},
"source": [
"## Summary and Next Steps\n",
"\n",
"Congratulations! You've worked through the fundamentals of pandas, from data structures to feature engineering for machine learning. \n",
"\n",
"Key Concepts Covered:\n",
"- Importing pandas\n",
"- Creating and manipulating Series and DataFrames\n",
"- Inspecting and cleaning data\n",
"- Combining datasets\n",
"- Grouping and aggregating data\n",
"- Working with time series\n",
"- Reading and writing data\n",
"- Preparing data for AI/ML models\n",
"\n",
"Next Steps:\n",
"- Explore more advanced indexing with .loc and .iloc.\n",
"- Dive into creating pivot tables.\n",
"- Practice with larger, real-world datasets from sources like Kaggle.\n",
"\n",
"Happy coding! 🚀"
]
},
{
"cell_type": "markdown",
"metadata": {},
"source": [
"# Pandas Advanced Topics: A Q&A Tutorial\n",
"\n",
"Welcome to the next stage of your pandas journey! This notebook builds on the fundamentals and dives into more advanced topics: sophisticated data selection with .loc and .iloc, and powerful data summarization with pivot tables."
]
},
{
"cell_type": "markdown",
"metadata": {},
"source": [
"## 1. Advanced Indexing with .loc and .iloc\n",
"\n",
"First, let's set up a sample DataFrame to work with. This DataFrame contains sales data for different products across several regions."
]
},
{
"cell_type": "code",
"execution_count": null,
"metadata": {},
"outputs": [],
"source": [
"import pandas as pd\n",
"import numpy as np\n",
"\n",
"data = {'Region': ['North', 'North', 'West', 'South', 'South', 'West'],\n",
"        'Product': ['A', 'B', 'A', 'B', 'A', 'B'],\n",
"        'Sales': [250, 200, 300, 450, 350, 150],\n",
"        'Quantity': [10, 8, 12, 18, 15, 5] }\n",
"df = pd.DataFrame(data, index=['R1', 'R2', 'R3', 'R4', 'R5', 'R6'])\n",
"df"
]
},
{
"cell_type": "markdown",
"metadata": {},
"source": [
"### Label-Based Indexing with .loc"
]
},
{
"cell_type": "markdown",
"metadata": {},
"source": [
"Question: How do you use .loc to select data for specific row and column labels? For example, select the 'Sales' and 'Quantity' for rows 'R2' through 'R4'."
]
},
{
"cell_type": "code",
"execution_count": null,
"metadata": {},
"outputs": [],
"source": [
"# .loc is used for label-based indexing.\n",
"# The format is df.loc[row_labels, column_labels]\n",
"df.loc['R2':'R4', ['Sales', 'Quantity']]"
]
},
{
"cell_type": "markdown",
"metadata": {},
"source": [
"### Integer-Position Based Indexing with .iloc"
]
},
{
"cell_type": "markdown",
"metadata": {},
"source": [
"Question: How do you use .iloc to select data based on integer positions? For example, select the first three rows and the first two columns."
]
},
{
"cell_type": "code",
"execution_count": null,
"metadata": {},
"outputs": [],
"source": [
"# .iloc is used for integer-location based indexing.\n",
"# The format is df.iloc[row_positions, column_positions]\n",
"df.iloc[0:3, 0:2]"
]
},
{
"cell_type": "markdown",
"metadata": {},
"source": [
"Question: What is the key difference between .loc and .iloc when slicing?"
]
},
{
"cell_type": "markdown",
"metadata": {},
"source": [
"Answer: The main difference is that .loc includes the last element in a slice, while .iloc does not. \n",
"- df.loc['R2':'R4'] includes rows with labels 'R2', 'R3', and 'R4'.\n",
"- df.iloc[1:4] includes rows at positions 1, 2, and 3 (which correspond to 'R2', 'R3', 'R4'), but excludes the row at position 4."
]
},
{
"cell_type": "markdown",
"metadata": {},
"source": [
"## 2. Diving into Pivot Tables\n",
"\n",
"Pivot tables are a powerful tool for summarizing data. They allow you to reshape or 'pivot' your data by specifying which columns become the new rows, columns, and the values to be aggregated."
]
},
{
"cell_type": "markdown",
"metadata": {},
"source": [
"Question: How do you create a pivot table to show the average sales for each product in each region?"
]
},
{
"cell_type": "code",
"execution_count": null,
"metadata": {},
"outputs": [],
"source": [
"# We can use the pivot_table() method.\n",
"# 'index' specifies the rows, 'columns' specifies the columns, and 'values' are the data to aggregate.\n",
"pivot1 = df.pivot_table(values='Sales', index='Region', columns='Product', aggfunc='mean')\n",
"pivot1"
]
},
{
"cell_type": "markdown",
"metadata": {},
"source": [
"Question: How can you create a more complex pivot table that shows both the total sales and total quantity for each product, grouped by region?"
]
},
{
"cell_type": "code",
"execution_count": null,
"metadata": {},
"outputs": [],
"source": [
"# You can pass multiple values and use different aggregation functions.\n",
"pivot2 = df.pivot_table(values=['Sales', 'Quantity'], \n",
"                        index='Region', \n",
"                        aggfunc={'Sales': np.sum, 'Quantity': np.sum})\n",
"pivot2"
]
},
{
"cell_type": "markdown",
"metadata": {},
"source": [
"## Summary and Further Learning\n",
"\n",
"In this notebook, we've explored two powerful, advanced features in pandas:\n",
"\n",
"- Advanced Indexing: You learned to select data with precision using label-based (.loc) and position-based (.iloc) indexing.\n",
"- Pivot Tables: You saw how to reshape and summarize data to gain insights quickly.\n",
"\n",
"What's next?\n",
"- Try using multi-level indexing in your DataFrames.\n",
"- Explore the crosstab() function, which is a specialized version of a pivot table that can compute a frequency table of two or more factors.\n",
"- Work on a real-world dataset to apply these concepts.\n",
"\n",
"Keep practicing to become a pandas expert! 🚀"
]
}
],
"metadata": {
"kernelspec": {
"display_name": "Python 3",
"language": "python",
"name": "python3"
},
"language_info": {
"codemirror_mode": {
"name": "ipython",
"version": 3
},
"file_extension": ".py",
"mimetype": "text/x-python",
"name": "python",
"nbconvert_exporter": "python",
"pygments_lexer": "ipython3",
"version": "3.9.0"
}
},
"nbformat": 4,
"nbformat_minor": 4
}