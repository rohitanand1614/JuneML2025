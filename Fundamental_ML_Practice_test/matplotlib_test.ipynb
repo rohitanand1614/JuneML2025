{
 "cells": [
  {
   "cell_type": "markdown",
   "metadata": {},
   "source": [
    "# Matplotlib: A Beginner's Q&A Journey\n",
    "\n",
    "*This Jupyter Notebook provides a structured, question-and-answer approach to learning Matplotlib. The content progresses from fundamental concepts to more advanced plotting techniques, enabling incremental learning and practical application.*"
   ]
  },
  {
   "cell_type": "markdown",
   "metadata": {},
   "source": [
    "## **Getting Started: The Basics**"
   ]
  },
  {
   "cell_type": "markdown",
   "metadata": {},
   "source": [
    "**Question:** What is the first step to start plotting? How do you import the necessary library?"
   ]
  },
  {
   "cell_type": "code",
   "execution_count": null,
   "metadata": {},
   "outputs": [],
   "source": [
    "import matplotlib.pyplot as plt\n",
    "import numpy as np"
   ]
  },
  {
   "cell_type": "markdown",
   "metadata": {},
   "source": [
    "*We import `matplotlib.pyplot` under the standard alias `plt`. We also import `numpy` as `np` because it is essential for creating numerical data for our plots.*"
   ]
  },
  {
   "cell_type": "markdown",
   "metadata": {},
   "source": [
    "**Question:** How do you create a simple line plot from a single list of numbers?"
   ]
  },
  {
   "cell_type": "code",
   "execution_count": null,
   "metadata": {},
   "outputs": [],
   "source": [
    "plt.plot([1, 2, 4, 9, 5, 3])\n",
    "plt.show()"
   ]
  },
  {
   "cell_type": "markdown",
   "metadata": {},
   "source": [
    "*Explanation: When you provide a single list or array to the `plot()` function, Matplotlib uses it as the y-values and automatically generates the x-values as the indices of the list (0, 1, 2, ...). `plt.show()` displays the plot.*"
   ]
  },
  {
   "cell_type": "markdown",
   "metadata": {},
   "source": [
    "**Question:** How do you plot a graph using specific coordinates for both the x and y axes?"
   ]
  },
  {
   "cell_type": "code",
   "execution_count": null,
   "metadata": {},
   "outputs": [],
   "source": [
    "x_coords = [-3, -2, 5, 0]\n",
    "y_coords = [1, 6, 4, 3]\n",
    "plt.plot(x_coords, y_coords)\n",
    "plt.show()"
   ]
  },
  {
   "cell_type": "markdown",
   "metadata": {},
   "source": [
    "## **Customizing Your Plot**"
   ]
  },
  {
   "cell_type": "markdown",
   "metadata": {},
   "source": [
    "**Question:** The previous plot's axes are tightly fitted to the data. How can you set the limits of the x and y axes manually?"
   ]
  },
  {
   "cell_type": "code",
   "execution_count": null,
   "metadata": {},
   "outputs": [],
   "source": [
    "plt.plot(x_coords, y_coords)\n",
    "plt.axis([-4, 6, 0, 7])  # [xmin, xmax, ymin, ymax]\n",
    "plt.show()"
   ]
  },
  {
   "cell_type": "markdown",
   "metadata": {},
   "source": [
    "**Question:** How do you add a title, x-axis label, y-axis label, and a grid to make the plot more informative?"
   ]
  },
  {
   "cell_type": "code",
   "execution_count": null,
   "metadata": {},
   "outputs": [],
   "source": [
    "x = np.linspace(-2, 2, 500)\n",
    "y = x**2\n",
    "\n",
    "plt.plot(x, y)\n",
    "plt.title(\"Square Function\")\n",
    "plt.xlabel(\"x\")\n",
    "plt.ylabel(\"y = x**2\")\n",
    "plt.grid(True)\n",
    "plt.show()"
   ]
  },
  {
   "cell_type": "markdown",
   "metadata": {},
   "source": [
    "**Question:** How can you change the appearance of the line, such as its color and style?"
   ]
  },
  {
   "cell_type": "code",
   "execution_count": null,
   "metadata": {},
   "outputs": [],
   "source": [
    "plt.plot([0, 100, 100, 0, 0], [0, 0, 100, 100, 0], \"g--\") # Green dashed line\n",
    "plt.axis([-10, 110, -10, 110])\n",
    "plt.show()"
   ]
  },
  {
   "cell_type": "markdown",
   "metadata": {},
   "source": [
    "**Question:** How can you plot multiple lines on the same graph and add a legend to differentiate them?"
   ]
  },
  {
   "cell_type": "code",
   "execution_count": null,
   "metadata": {},
   "outputs": [],
   "source": [
    "x = np.linspace(-1.4, 1.4, 30)\n",
    "\n",
    "# Plot square and cube functions with labels for the legend\n",
    "plt.plot(x, x**2, \"r--\", label=\"Square function\")\n",
    "plt.plot(x, x**3, \"g-\", label=\"Cube function\")\n",
    "\n",
    "plt.legend(loc=\"best\") # loc=\"best\" automatically finds the best location\n",
    "plt.grid(True)\n",
    "plt.show()"
   ]
  },
  {
   "cell_type": "markdown",
   "metadata": {},
   "source": [
    "**Question:** How do you add text and annotations to a plot to highlight specific points?"
   ]
  },
  {
   "cell_type": "code",
   "execution_count": null,
   "metadata": {},
   "outputs": [],
   "source": [
    "x = np.linspace(-1.5, 1.5, 30)\n",
    "px = 0.8\n",
    "py = px**2\n",
    "\n",
    "plt.plot(x, x**2, \"b-\", px, py, \"ro\")\n",
    "\n",
    "# Add simple text\n",
    "plt.text(0, 1.5, \"Square function\\n$y = x^2$\", fontsize=20, color='blue', horizontalalignment=\"center\")\n",
    "\n",
    "# Add an annotation with an arrow\n",
    "plt.annotate(\"Beautiful point\", xy=(px, py), xytext=(px-1.3, py+0.5),\n",
    "             color=\"green\", weight=\"heavy\", fontsize=14,\n",
    "             arrowprops={\"facecolor\": \"lightgreen\"})\n",
    "\n",
    "plt.show()"
   ]
  },
  {
   "cell_type": "markdown",
   "metadata": {},
   "source": [
    "## **Figures, Subplots, and Layouts**"
   ]
  },
  {
   "cell_type": "markdown",
   "metadata": {},
   "source": [
    "**Question:** What is the difference between Matplotlib's implicit (pyplot state machine) and explicit (object-oriented) interfaces?"
   ]
  },
  {
   "cell_type": "markdown",
   "metadata": {},
   "source": [
    "*Pyplot's state machine (`plt.plot()`, etc.) is quick for interactive use. It keeps track of the 'current' figure and axes. The object-oriented interface is better for complex plots and reusable code. You explicitly create `figure` and `axes` objects and then call methods on them.*"
   ]
  },
  {
   "cell_type": "markdown",
   "metadata": {},
   "source": [
    "**Question:** How do you use the object-oriented approach to create a figure with a single subplot?"
   ]
  },
  {
   "cell_type": "code",
   "execution_count": null,
   "metadata": {},
   "outputs": [],
   "source": [
    "# Explicitly create a figure and axes\n",
    "fig, ax = plt.subplots()\n",
    "\n",
    "# Call methods on the axes object\n",
    "ax.plot(x, x**2)\n",
    "ax.set_title(\"Object-Oriented Plot\")\n",
    "ax.grid(True)\n",
    "plt.show()"
   ]
  },
  {
   "cell_type": "markdown",
   "metadata": {},
   "source": [
    "**Question:** How do you create a grid of subplots, for example, a 2x2 grid?"
   ]
  },
  {
   "cell_type": "code",
   "execution_count": null,
   "metadata": {},
   "outputs": [],
   "source": [
    "x = np.linspace(-1.4, 1.4, 30)\n",
    "\n",
    "plt.subplot(2, 2, 1)  # 2 rows, 2 columns, 1st subplot\n",
    "plt.plot(x, x)\n",
    "\n",
    "plt.subplot(2, 2, 2)  # 2 rows, 2 columns, 2nd subplot\n",
    "plt.plot(x, x**2)\n",
    "\n",
    "plt.subplot(2, 2, 3)  # 2 rows, 2 columns, 3rd subplot\n",
    "plt.plot(x, x**3)\n",
    "\n",
    "plt.subplot(2, 2, 4)  # 2 rows, 2 columns, 4th subplot\n",
    "plt.plot(x, x**4)\n",
    "\n",
    "plt.show()"
   ]
  },
  {
   "cell_type": "markdown",
   "metadata": {},
   "source": [
    "**Question:** How do you create multiple, separate figures in one script?"
   ]
  },
  {
   "cell_type": "code",
   "execution_count": null,
   "metadata": {},
   "outputs": [],
   "source": [
    "x = np.linspace(-1.4, 1.4, 30)\n",
    "\n",
    "# --- Figure 1 ---\n",
    "plt.figure(1)\n",
    "plt.plot(x, x**2)\n",
    "plt.title(\"Square Function\")\n",
    "\n",
    "# --- Figure 2 ---\n",
    "plt.figure(2, figsize=(10, 5))\n",
    "plt.plot(x, x**3)\n",
    "plt.title(\"Cube Function\")\n",
    "\n",
    "plt.show() # Displays both figures"
   ]
  },
  {
   "cell_type": "markdown",
   "metadata": {},
   "source": [
    "## **Common Plot Types for AI/ML**"
   ]
  },
  {
   "cell_type": "markdown",
   "metadata": {},
   "source": [
    "**Question:** How do you create a scatter plot, which is useful for visualizing relationships between two variables?"
   ]
  },
  {
   "cell_type": "code",
   "execution_count": null,
   "metadata": {},
   "outputs": [],
   "source": [
    "np.random.seed(42)\n",
    "x, y, scale = np.random.rand(3, 100)\n",
    "scale = 500 * scale ** 5\n",
    "\n",
    "# Plot with varying point sizes (s) and colors (c), with transparency (alpha)\n",
    "plt.scatter(x, y, s=scale, c=x, alpha=0.5, cmap=\"viridis\")\n",
    "plt.colorbar() # Add a color bar to show the scale\n",
    "plt.show()"
   ]
  },
  {
   "cell_type": "markdown",
   "metadata": {},
   "source": [
    "**Question:** How do you create a histogram to visualize the distribution of a single variable?"
   ]
  },
  {
   "cell_type": "code",
   "execution_count": null,
   "metadata": {},
   "outputs": [],
   "source": [
    "data = np.random.randn(1000)\n",
    "\n",
    "plt.hist(data, bins=30, color='g', alpha=0.75)\n",
    "plt.xlabel(\"Value\")\n",
    "plt.ylabel(\"Frequency\")\n",
    "plt.title(\"Histogram of a Normal Distribution\")\n",
    "plt.show()"
   ]
  },
  {
   "cell_type": "markdown",
   "metadata": {},
   "source": [
    "**Question:** How can you display an image, such as a confusion matrix or a feature map from a neural network?"
   ]
  },
  {
   "cell_type": "code",
   "execution_count": null,
   "metadata": {},
   "outputs": [],
   "source": [
    "# Create some sample image data (e.g., a 10x10 matrix)\n",
    "img_data = np.random.rand(10, 10)\n",
    "\n",
    "plt.imshow(img_data, cmap=\"hot\")\n",
    "plt.colorbar()\n",
    "plt.title(\"Heatmap Image\")\n",
    "plt.show()"
   ]
  },
  {
   "cell_type": "markdown",
   "metadata": {},
   "source": [
    "## **Advanced Visualizations**"
   ]
  },
  {
   "cell_type": "markdown",
   "metadata": {},
   "source": [
    "**Question:** How do you create a 3D surface plot?"
   ]
  },
  {
   "cell_type": "code",
   "execution_count": null,
   "metadata": {},
   "outputs": [],
   "source": [
    "from mpl_toolkits.mplot3d import Axes3D\n",
    "\n",
    "x_3d = np.linspace(-5, 5, 50)\n",
    "y_3d = np.linspace(-5, 5, 50)\n",
    "X, Y = np.meshgrid(x_3d, y_3d)\n",
    "R = np.sqrt(X**2 + Y**2)\n",
    "Z = np.sin(R)\n",
    "\n",
    "fig = plt.figure(figsize=(10, 7))\n",
    "ax = plt.subplot(111, projection='3d')\n",
    "ax.plot_surface(X, Y, Z, cmap=\"viridis\")\n",
    "plt.show()"
   ]
  },
  {
   "cell_type": "markdown",
   "metadata": {},
   "source": [
    "**Question:** How do you create a simple animation to visualize data changing over time?"
   ]
  },
  {
   "cell_type": "code",
   "execution_count": null,
   "metadata": {},
   "outputs": [],
   "source": [
    "from matplotlib.animation import FuncAnimation\n",
    "from IPython.display import HTML\n",
    "\n",
    "x = np.linspace(-1, 1, 100)\n",
    "y = np.sin(x**2*25)\n",
    "data = np.array([x, y])\n",
    "\n",
    "fig = plt.figure()\n",
    "line, = plt.plot([], [], \"r-\")\n",
    "plt.axis([-1.1, 1.1, -1.1, 1.1])\n",
    "plt.grid(True)\n",
    "plt.title(\"Simple Animation\")\n",
    "\n",
    "# Update function for each frame\n",
    "def update_line(num, data, line):\n",
    "    line.set_data(data[..., :num])\n",
    "    return line,\n",
    "\n",
    "line_ani = FuncAnimation(fig, update_line, frames=100, fargs=(data, line), interval=50)\n",
    "\n",
    "# To display in Jupyter, convert to HTML5 video\n",
    "plt.close() # prevent static plot from displaying\n",
    "HTML(line_ani.to_html5_video())"
   ]
  },
  {
   "cell_type": "markdown",
   "metadata": {},
   "source": [
    "## **Saving and Concluding**"
   ]
  },
  {
   "cell_type": "markdown",
   "metadata": {},
   "source": [
    "**Question:** How do you save a high-quality figure to a file for a publication or report?"
   ]
  },
  {
   "cell_type": "code",
   "execution_count": null,
   "metadata": {},
   "outputs": [],
   "source": [
    "x = np.linspace(-2, 2, 200)\n",
    "y = x**2\n",
    "\n",
    "fig, ax = plt.subplots()\n",
    "ax.plot(x, y)\n",
    "ax.set_title(\"High-Quality Plot\")\n",
    "\n",
    "# Save with high DPI and a tight bounding box\n",
    "fig.savefig(\"high_quality_square_function.png\", dpi=300, bbox_inches='tight')\n",
    "plt.show()"
   ]
  },
  {
   "cell_type": "markdown",
   "metadata": {},
   "source": [
    "## **Summary & Next Steps**\n",
    "\n",
    "Congratulations! You've covered the essentials of Matplotlib, from basic plots to advanced customizations and 3D visualizations. \n",
    "\n",
    "**Key Concepts Covered:**\n",
    "- Importing and basic plotting (`plot`, `scatter`)\n",
    "- Customizing plots (colors, styles, labels, titles, legends)\n",
    "- Creating complex layouts with `subplots` and multiple `figures`\n",
    "- Understanding the object-oriented interface (`fig`, `ax`)\n",
    "- Common plot types: histograms and image displays\n",
    "- Advanced plots: 3D surfaces and animations\n",
    "- Saving figures for external use\n",
    "\n",
    "**Recommended Next Steps:**\n",
    "1. **Practice:** The key to mastery is practice. Try visualizing your own datasets or find interesting ones online.\n",
    "2. **Explore the Gallery:** The official [Matplotlib Gallery](https://matplotlib.org/stable/gallery/index.html) is an excellent resource for inspiration and includes the source code for every plot.\n",
    "3. **Learn More Plot Types:** Investigate bar charts, pie charts, box plots, and heatmaps.\n",
    "4. **Dive Deeper into the OO-Interface:** For full control over your plots, become more comfortable creating and manipulating `Figure` and `Axes` objects.\n",
    "5. **Explore Seaborn:** For statistical data visualization, the Seaborn library (built on top of Matplotlib) provides a high-level interface for drawing attractive and informative statistical graphics."
   ]
  }
 ],
 "metadata": {
  "kernelspec": {
   "display_name": "Python 3",
   "language": "python",
   "name": "python3"
  },
  "language_info": {
   "codemirror_mode": {
    "name": "ipython",
    "version": 3
   },
   "file_extension": ".py",
   "mimetype": "text/x-python",
   "name": "python",
   "nbconvert_exporter": "python",
   "pygments_lexer": "ipython3",
   "version": "3.9.7"
  }
 },
 "nbformat": 4,
 "nbformat_minor": 4
}
