{
"cells": [
{
"cell_type": "markdown",
"metadata": {},
"source": [
"# The Ultimate Guide to Pandas: A Q&A Tutorial\\n",
"\\n",
"Welcome to this hands-on tutorial on pandas! We'll explore this powerful library through a series of questions and answers, designed to take you from a beginner to a proficient user in a week. \\n",
"\\n",
"The `pandas` library provides high-performance, easy-to-use data structures and data analysis tools. The main data structure is the `DataFrame`, which you can think of as an in-memory 2D table (like a spreadsheet), with column names and row labels.\\n",
"\\n",
"Let's get started!"
]
},
{
"cell_type": "markdown",
"metadata": {},
"source": [
"## Part 1: Getting Started & Fundamental Data Structures"
]
},
{
"cell_type": "markdown",
"metadata": {},
"source": [
"### Section 1.1: Setup"
]
},
{
"cell_type": "markdown",
"metadata": {},
"source": [
"• **Question**: To begin, we need to import the pandas library. What is the standard convention for importing pandas?"
]
},
{
"cell_type": "code",
"execution_count": 1,
"metadata": {},
"outputs": [],
"source": [
"import pandas as pd\\n",
"import numpy as np"
]
},
{
"cell_type": "markdown",
"metadata": {},
"source": [
"### Section 1.2: The `Series` Object\\n",
"\\n",
"The `Series` is one of the two fundamental data structures in pandas (the other being the `DataFrame`). You can think of it as a single column in a spreadsheet or a 1D array with labeled rows."
]
},
{
"cell_type": "markdown",
"metadata": {},
"source": [
"• **Question**: What is a pandas `Series` and how do you create a simple one from a Python list?"
]
},
{
"cell_type": "code",
"execution_count": 2,
"metadata": {},
"outputs": [
{
"data": {
"text/plain": [
"0     2\\n",
"1    -1\\n",
"2     3\\n",
"3     5\\n",
"dtype: int64"
]
},
"execution_count": 2,
"metadata": {},
"output_type": "execute_result"
}
],
"source": [
"s = pd.Series([2, -1, 3, 5])\\n",
"s"
]
},
{
"cell_type": "markdown",
"metadata": {},
"source": [
"• **Question**: How are `Series` objects similar to NumPy arrays when performing arithmetic operations?"
]
},
{
"cell_type": "markdown",
"metadata": {},
"source": [
"**Answer**: `Series` objects behave much like one-dimensional NumPy `ndarray`s. You can apply NumPy functions and perform arithmetic operations element-wise."
]
},
{
"cell_type": "code",
"execution_count": 3,
"metadata": {},
"outputs": [
{
"data": {
"text/plain": [
"0      7.389056\\n",
"1      0.367879\\n",
"2     20.085537\\n",
"3    148.413159\\n",
"dtype: float64"
]
},
"execution_count": 3,
"metadata": {},
"output_type": "execute_result"
}
],
"source": [
"# Applying a NumPy function\\n",
"np.exp(s)"
]
},
{
"cell_type": "code",
"execution_count": 4,
"metadata": {},
"outputs": [
{
"data": {
"text/plain": [
"0    False\\n",
"1     True\\n",
"2    False\\n",
"3    False\\n",
"dtype: bool"
]
},
"execution_count": 4,
"metadata": {},
"output_type": "execute_result"
}
],
"source": [
"# Performing a conditional operation\\n",
"s < 0"
]
},
{
"cell_type": "markdown",
"metadata": {},
"source": [
"• **Question**: What are index labels and how do you set them manually when creating a `Series`?"
]
},
{
"cell_type": "markdown",
"metadata": {},
"source": [
"**Answer**: Each item in a `Series` has an identifier called the *index label*. By default, it's just the item's rank (starting from 0). You can set custom index labels using the `index` argument."
]
},
{
"cell_type": "code",
"execution_count": 5,
"metadata": {},
"outputs": [
{
"data": {
"text/plain": [
"alice       68\\n",
"bob         83\\n",
"charles    112\\n",
"darwin      68\\n",
"dtype: int64"
]
},
"execution_count": 5,
"metadata": {},
"output_type": "execute_result"
}
],
"source": [
"s2 = pd.Series([68, 83, 112, 68], index=[\"alice\", \"bob\", \"charles\", \"darwin\"])\\n",
"s2"
]
},
{
"cell_type": "markdown",
"metadata": {},
"source": [
"• **Question**: How do you access elements in a `Series` by label and by integer position? What is the syntax?"
]
},
{
"cell_type": "markdown",
"metadata": {},
"source": [
"**Answer**: It is best practice to use `.loc` for accessing by label and `.iloc` for accessing by integer position to avoid ambiguity."
]
},
{
"cell_type": "code",
"execution_count": 6,
"metadata": {},
"outputs": [
{
"name": "stdout",
"output_type": "stream",
"text": [
"Value for 'bob' using .loc: 83\\n",
"Value at position 1 using .iloc: 83\\n"
]
}
],
"source": [
"# Access by label\\n",
"print(f\"Value for 'bob' using .loc: {s2.loc['bob']}\")\\n",
"\\n",
"# Access by integer position\\n",
"print(f\"Value at position 1 using .iloc: {s2.iloc[1]}\")"
]
},
{
"cell_type": "markdown",
"metadata": {},
"source": [
"• **Question**: How can you create a `Series` from a Python dictionary?"
]
},
{
"cell_type": "code",
"execution_count": 7,
"metadata": {},
"outputs": [
{
"data": {
"text/plain": [
"alice     68\\n",
"bob       83\\n",
"colin     86\\n",
"darwin    68\\n",
"dtype: int64"
]
},
"execution_count": 7,
"metadata": {},
"output_type": "execute_result"
}
],
"source": [
"weights = {\"alice\": 68, \"bob\": 83, \"colin\": 86, \"darwin\": 68}\\n",
"s3 = pd.Series(weights)\\n",
"s3"
]
},
{
"cell_type": "markdown",
"metadata": {},
"source": [
"• **Question**: What is automatic alignment in `Series` operations?"
]
},
{
"cell_type": "markdown",
"metadata": {},
"source": [
"**Answer**: When an operation involves multiple `Series` objects, pandas automatically aligns items by matching their index labels. If an index label does not exist in both `Series`, the result will be `NaN` (Not-a-Number) for that label."
]
},
{
"cell_type": "code",
"execution_count": 8,
"metadata": {},
"outputs": [
{
"data": {
"text/plain": [
"alice      136.0\\n",
"bob        166.0\\n",
"charles      NaN\\n",
"colin        NaN\\n",
"darwin     136.0\\n",
"dtype: float64"
]
},
"execution_count": 8,
"metadata": {},
"output_type": "execute_result"
}
],
"source": [
"# s2 has ['alice', 'bob', 'charles', 'darwin']\\n",
"# s3 has ['alice', 'bob', 'colin', 'darwin']\\n",
"# The result contains the union of labels. 'charles' is not in s3 and 'colin' is not in s2.\\n",
"s2 + s3"
]
},
{
"cell_type": "markdown",
"metadata": {},
"source": [
"### Section 1.3: The `DataFrame` Object\\n",
"\\n",
"A `DataFrame` is the most commonly used object in pandas. It represents a 2D table, like a spreadsheet, with cell values, column names, and row index labels."
]
},
{
"cell_type": "markdown",
"metadata": {},
"source": [
"• **Question**: What is a pandas `DataFrame` and how do you create one from a Python dictionary?"
]
},
{
"cell_type": "code",
"execution_count": 9,
"metadata": {},
"outputs": [
{
"data": {
"text/html": [
"<div>\\n",
"<style scoped>\\n",
"    .dataframe tbody tr th:only-of-type {\\n",
"        vertical-align: middle;\\n",
"    }\\n",
"\\n",
"    .dataframe tbody tr th {\\n",
"        vertical-align: top;\\n",
"    }\\n",
"\\n",
"    .dataframe thead th {\\n",
"        text-align: right;\\n",
"    }\\n",
"</style>\\n",
"<table border=\"1\" class=\"dataframe\">\\n",
"  <thead>\\n",
"    <tr style=\"text-align: right;\">\\n",
"      <th></th>\\n",
"      <th>Name</th>\\n",
"      <th>Age</th>\\n",
"      <th>City</th>\\n",
"    </tr>\\n",
"  </thead>\\n",
"  <tbody>\\n",
"    <tr>\\n",
"      <th>0</th>\\n",
"      <td>Alice</td>\\n",
"      <td>25</td>\\n",
"      <td>New York</td>\\n",
"    </tr>\\n",
"    <tr>\\n",
"      <th>1</th>\\n",
"      <td>Bob</td>\\n",
"      <td>30</td>\\n",
"      <td>Los Angeles</td>\\n",
"    </tr>\\n",
"    <tr>\\n",
"      <th>2</th>\\n",
"      <td>Charlie</td>\\n",
"      <td>35</td>\\n",
"      <td>Chicago</td>\\n",
"    </tr>\\n",
"  </tbody>\\n",
"</table>\\n",
"</div>"
],
"text/plain": [
"      Name  Age         City\\n",
"0    Alice   25     New York\\n",
"1      Bob   30  Los Angeles\\n",
"2  Charlie   35      Chicago"
]
},
"execution_count": 9,
"metadata": {},
"output_type": "execute_result"
}
],
"source": [
"data = {\\n",
"    'Name': ['Alice', 'Bob', 'Charlie'],\\n",
"    'Age': [25, 30, 35],\\n",
"    'City': ['New York', 'Los Angeles', 'Chicago']\\n",
"}\\n",
"df = pd.DataFrame(data)\\n",
"df"
]
},
{
"cell_type": "markdown",
"metadata": {},
"source": [
"## Part 2: Inspecting and Selecting Data\\n",
"\\n",
"Once you have a DataFrame, the first step is always to inspect it to understand its structure and content."
]
},
{
"cell_type": "markdown",
"metadata": {},
"source": [
"### Section 2.1: Basic Inspection"
]
},
{
"cell_type": "markdown",
"metadata": {},
"source": [
"• **Question**: How do you view the first few rows of a DataFrame? What is the syntax?"
]
},
{
"cell_type": "code",
"execution_count": 10,
"metadata": {},
"outputs": [
{
"data": {
"text/html": [
"<div>\\n",
"<style scoped>\\n",
"    .dataframe tbody tr th:only-of-type {\\n",
"        vertical-align: middle;\\n",
"    }\\n",
"\\n",
"    .dataframe tbody tr th {\\n",
"        vertical-align: top;\\n",
"    }\\n",
"\\n",
"    .dataframe thead th {\\n",
"        text-align: right;\\n",
"    }\\n",
"</style>\\n",
"<table border=\"1\" class=\"dataframe\">\\n",
"  <thead>\\n",
"    <tr style=\"text-align: right;\">\\n",
"      <th></th>\\n",
"      <th>Name</th>\\n",
"      <th>Age</th>\\n",
"      <th>City</th>\\n",
"    </tr>\\n",
"  </thead>\\n",
"  <tbody>\\n",
"    <tr>\\n",
"      <th>0</th>\\n",
"      <td>Alice</td>\\n",
"      <td>25</td>\\n",
"      <td>New York</td>\\n",
"    </tr>\\n",
"    <tr>\\n",
"      <th>1</th>\\n",
"      <td>Bob</td>\\n",
"      <td>30</td>\\n",
"      <td>Los Angeles</td>\\n",
"    </tr>\\n",
"  </tbody>\\n",
"</table>\\n",
"</div>"
],
"text/plain": [
"    Name  Age         City\\n",
"0  Alice   25     New York\\n",
"1    Bob   30  Los Angeles"
]
},
"execution_count": 10,
"metadata": {},
"output_type": "execute_result"
}
],
"source": [
"df.head(2)"
]
},
{
"cell_type": "markdown",
"metadata": {},
"source": [
"• **Question**: How do you get a quick summary of the DataFrame's structure, including data types and non-null values?"
]
},
{
"cell_type": "code",
"execution_count": 11,
"metadata": {},
"outputs": [
{
"name": "stdout",
"output_type": "stream",
"text": [
"<class 'pandas.core.frame.DataFrame'>\\n",
"RangeIndex: 3 entries, 0 to 2\\n",
"Data columns (total 3 columns):\\n",
" #   Column  Non-Null Count  Dtype \\n",
"---  ------  --------------  ----- \\n",
" 0   Name    3 non-null      object\\n",
" 1   Age     3 non-null      int64 \\n",
" 2   City    3 non-null      object\\n",
"dtypes: int64(1), object(2)\\n",
"memory usage: 200.0+ bytes\\n"
]
}
],
"source": [
"df.info()"
]
},
{
"cell_type": "markdown",
"metadata": {},
"source": [
"• **Question**: How can you get a descriptive statistical summary of the numerical columns in your DataFrame?"
]
},
{
"cell_type": "code",
"execution_count": 12,
"metadata": {},
"outputs": [
{
"data": {
"text/html": [
"<div>\\n",
"<style scoped>\\n",
"    .dataframe tbody tr th:only-of-type {\\n",
"        vertical-align: middle;\\n",
"    }\\n",
"\\n",
"    .dataframe tbody tr th {\\n",
"        vertical-align: top;\\n",
"    }\\n",
"\\n",
"    .dataframe thead th {\\n",
"        text-align: right;\\n",
"    }\\n",
"</style>\\n",
"<table border=\"1\" class=\"dataframe\">\\n",
"  <thead>\\n",
"    <tr style=\"text-align: right;\">\\n",
"      <th></th>\\n",
"      <th>Age</th>\\n",
"    </tr>\\n",
"  </thead>\\n",
"  <tbody>\\n",
"    <tr>\\n",
"      <th>count</th>\\n",
"      <td>3.0</td>\\n",
"    </tr>\\n",
"    <tr>\\n",
"      <th>mean</th>\\n",
"      <td>30.0</td>\\n",
"    </tr>\\n",
"    <tr>\\n",
"      <th>std</th>\\n",
"      <td>5.0</td>\\n",
"    </tr>\\n",
"    <tr>\\n",
"      <th>min</th>\\n",
"      <td>25.0</td>\\n",
"    </tr>\\n",
"    <tr>\\n",
"      <th>25%</th>\\n",
"      <td>27.5</td>\\n",
"    </tr>\\n",
"    <tr>\\n",
"      <th>50%</th>\\n",
"      <td>30.0</td>\\n",
"    </tr>\\n",
"    <tr>\\n",
"      <th>75%</th>\\n",
"      <td>32.5</td>\\n",
"    </tr>\\n",
"    <tr>\\n",
"      <th>max</th>\\n",
"      <td>35.0</td>\\n",
"    </tr>\\n",
"  </tbody>\\n",
"</table>\\n",
"</div>"
],
"text/plain": [
"             Age\\n",
"count   3.000000\\n",
"mean   30.000000\\n",
"std     5.000000\\n",
"min    25.000000\\n",
"25%    27.500000\\n",
"50%    30.000000\\n",
"75%    32.500000\\n",
"max    35.000000"
]
},
"execution_count": 12,
"metadata": {},
"output_type": "execute_result"
}
],
"source": [
"df.describe()"
]
},
{
"cell_type": "markdown",
"metadata": {},
"source": [
"### Section 2.2: Data Selection and Filtering"
]
},
{
"cell_type": "markdown",
"metadata": {},
"source": [
"• **Question**: How do you select a single column or multiple columns from a DataFrame? "
]
},
{
"cell_type": "code",
"execution_count": 13,
"metadata": {},
"outputs": [
{
"name": "stdout",
"output_type": "stream",
"text": [
"--- Single Column ('Name') ---\\n",
"0      Alice\\n",
"1        Bob\\n",
"2    Charlie\\n",
"Name: Name, dtype: object\\n",
"\\n",
"--- Multiple Columns ('Name' and 'Age') ---\\n",
"      Name  Age\\n",
"0    Alice   25\\n",
"1      Bob   30\\n",
"2  Charlie   35\\n"
]
}
],
"source": [
"# Selecting a single column returns a Series\\n",
"print(\"--- Single Column ('Name') ---\")\\n",
"print(df['Name'])\\n",
"\\n",
"# Selecting multiple columns returns a DataFrame\\n",
"print(\"\\n--- Multiple Columns ('Name' and 'Age') ---\")\\n",
"print(df[['Name', 'Age']])"
]
},
{
"cell_type": "markdown",
"metadata": {},
"source": [
"• **Question**: How do you select rows based on a condition?"
]
},
{
"cell_type": "code",
"execution_count": 14,
"metadata": {},
"outputs": [
{
"data": {
"text/html": [
"<div>\\n",
"<style scoped>\\n",
"    .dataframe tbody tr th:only-of-type {\\n",
"        vertical-align: middle;\\n",
"    }\\n",
"\\n",
"    .dataframe tbody tr th {\\n",
"        vertical-align: top;\\n",
"    }\\n",
"\\n",
"    .dataframe thead th {\\n",
"        text-align: right;\\n",
"    }\\n",
"</style>\\n",
"<table border=\"1\" class=\"dataframe\">\\n",
"  <thead>\\n",
"    <tr style=\"text-align: right;\">\\n",
"      <th></th>\\n",
"      <th>Name</th>\\n",
"      <th>Age</th>\\n",
"      <th>City</th>\\n",
"    </tr>\\n",
"  </thead>\\n",
"  <tbody>\\n",
"    <tr>\\n",
"      <th>1</th>\\n",
"      <td>Bob</td>\\n",
"      <td>30</td>\\n",
"      <td>Los Angeles</td>\\n",
"    </tr>\\n",
"    <tr>\\n",
"      <th>2</th>\\n",
"      <td>Charlie</td>\\n",
"      <td>35</td>\\n",
"      <td>Chicago</td>\\n",
"    </tr>\\n",
"  </tbody>\\n",
"</table>\\n",
"</div>"
],
"text/plain": [
"      Name  Age         City\\n",
"1      Bob   30  Los Angeles\\n",
"2  Charlie   35      Chicago"
]
},
"execution_count": 14,
"metadata": {},
"output_type": "execute_result"
}
],
"source": [
"# This is called boolean indexing\\n",
"df[df['Age'] > 25]"
]
},
{
"cell_type": "markdown",
"metadata": {},
"source": [
"• **Question**: How do you use `.loc` to select data for specific row and column labels?"
]
},
{
"cell_type": "markdown",
"metadata": {},
"source": [
"**Answer**: The `.loc` indexer is used for label-based indexing. The format is `df.loc[row_labels, column_labels]`."
]
},
{
"cell_type": "code",
"execution_count": 15,
"metadata": {},
"outputs": [
{
"data": {
"text/html": [
"<div>\\n",
"<style scoped>\\n",
"    .dataframe tbody tr th:only-of-type {\\n",
"        vertical-align: middle;\\n",
"    }\\n",
"\\n",
"    .dataframe tbody tr th {\\n",
"        vertical-align: top;\\n",
"    }\\n",
"\\n",
"    .dataframe thead th {\\n",
"        text-align: right;\\n",
"    }\\n",
"</style>\\n",
"<table border=\"1\" class=\"dataframe\">\\n",
"  <thead>\\n",
"    <tr style=\"text-align: right;\">\\n",
"      <th></th>\\n",
"      <th>Age</th>\\n",
"      <th>City</th>\\n",
"    </tr>\\n",
"  </thead>\\n",
"  <tbody>\\n",
"    <tr>\\n",
"      <th>0</th>\\n",
"      <td>25</td>\\n",
"      <td>New York</td>\\n",
"    </tr>\\n",
"    <tr>\\n",
"      <th>1</th>\\n",
"      <td>30</td>\\n",
"      <td>Los Angeles</td>\\n",
"    </tr>\\n",
"  </tbody>\\n",
"</table>\\n",
"</div>"
],
"text/plain": [
"   Age         City\\n",
"0   25     New York\\n",
"1   30  Los Angeles"
]
},
"execution_count": 15,
"metadata": {},
"output_type": "execute_result"
}
],
"source": [
"# Select rows with index 0 and 1, and columns 'Age' and 'City'\\n",
"df.loc[0:1, ['Age', 'City']]"
]
},
{
"cell_type": "markdown",
"metadata": {},
"source": [
"## Part 3: Handling Missing Data\\n",
"\\n",
"Dealing with missing data is a critical step in any data analysis workflow."
]
},
{
"cell_type": "markdown",
"metadata": {},
"source": [
"• **Question**: How can you create a DataFrame with missing values (represented as `None` or `np.nan`) and then identify them?"
]
},
{
"cell_type": "code",
"execution_count": 16,
"metadata": {},
"outputs": [
{
"data": {
"text/html": [
"<div>\\n",
"<style scoped>\\n",
"    .dataframe tbody tr th:only-of-type {\\n",
"        vertical-align: middle;\\n",
"    }\\n",
"\\n",
"    .dataframe tbody tr th {\\n",
"        vertical-align: top;\\n",
"    }\\n",
"\\n",
"    .dataframe thead th {\\n",
"        text-align: right;\\n",
"    }\\n",
"</style>\\n",
"<table border=\"1\" class=\"dataframe\">\\n",
"  <thead>\\n",
"    <tr style=\"text-align: right;\">\\n",
"      <th></th>\\n",
"      <th>A</th>\\n",
"      <th>B</th>\\n",
"    </tr>\\n",
"  </thead>\\n",
"  <tbody>\\n",
"    <tr>\\n",
"      <th>0</th>\\n",
"      <td>False</td>\\n",
"      <td>False</td>\\n",
"    </tr>\\n",
"    <tr>\\n",
"      <th>1</th>\\n",
"      <td>False</td>\\n",
"      <td>True</td>\\n",
"    </tr>\\n",
"    <tr>\\n",
"      <th>2</th>\\n",
"      <td>True</td>\\n",
"      <td>False</td>\\n",
"    </tr>\\n",
"    <tr>\\n",
"      <th>3</th>\\n",
"      <td>False</td>\\n",
"      <td>False</td>\\n",
"    </tr>\\n",
"  </tbody>\\n",
"</table>\\n",
"</div>"
],
"text/plain": [
"       A      B\\n",
"0  False  False\\n",
"1  False   True\\n",
"2   True  False\\n",
"3  False  False"
]
},
"execution_count": 16,
"metadata": {},
"output_type": "execute_result"
}
],
"source": [
"df_missing = pd.DataFrame({\\n",
"    'A': [1, 2, np.nan, 4],\\n",
"    'B': [5, np.nan, 7, 8]\\n",
"})\\n",
"\\n",
"# .isnull() returns a boolean DataFrame of the same size\\n",
"df_missing.isnull()"
]
},
{
"cell_type": "markdown",
"metadata": {},
"source": [
"• **Question**: What are the common strategies for handling missing data? Show how to drop rows with missing values and how to fill them."
]
},
{
"cell_type": "code",
"execution_count": 17,
"metadata": {},
"outputs": [
{
"name": "stdout",
"output_type": "stream",
"text": [
"--- Dropping rows with any missing values ---\\n",
"     A    B\\n",
"0  1.0  5.0\\n",
"3  4.0  8.0\\n",
"\\n",
"--- Filling missing values with 0 ---\\n",
"     A    B\\n",
"0  1.0  5.0\\n",
"1  2.0  0.0\\n",
"2  0.0  7.0\\n",
"3  4.0  8.0\\n",
"\\n",
"--- Filling with the column mean ---\\n",
"          A         B\\n",
"0  1.000000  5.000000\\n",
"1  2.000000  6.666667\\n",
"2  2.333333  7.000000\\n",
"3  4.000000  8.000000\\n"
]
}
],
"source": [
"# Strategy 1: Drop rows with any missing values\\n",
"print(\"--- Dropping rows with any missing values ---\")\\n",
"print(df_missing.dropna())\\n",
"\\n",
"# Strategy 2: Fill missing values with a specific value (e.g., 0)\\n",
"print(\"\\n--- Filling missing values with 0 ---\")\\n",
"print(df_missing.fillna(0))\\n",
"\\n",
"# Strategy 3: Fill with a calculated value (e.g., the mean of the column)\\n",
"print(\"\\n--- Filling with the column mean ---\")\\n",
"print(df_missing.fillna(df_missing.mean()))"
]
},
{
"cell_type": "markdown",
"metadata": {},
"source": [
"## Part 4: Combining and Grouping Data"
]
},
{
"cell_type": "markdown",
"metadata": {},
"source": [
"### Section 4.1: Concatenating and Merging"
]
},
{
"cell_type": "markdown",
"metadata": {},
"source": [
"• **Question**: How do you concatenate two DataFrames vertically?"
]
},
{
"cell_type": "code",
"execution_count": 18,
"metadata": {},
"outputs": [
{
"data": {
"text/html": [
"<div>\\n",
"<style scoped>\\n",
"    .dataframe tbody tr th:only-of-type {\\n",
"        vertical-align: middle;\\n",
"    }\\n",
"\\n",
"    .dataframe tbody tr th {\\n",
"        vertical-align: top;\\n",
"    }\\n",
"\\n",
"    .dataframe thead th {\\n",
"        text-align: right;\\n",
"    }\\n",
"</style>\\n",
"<table border=\"1\" class=\"dataframe\">\\n",
"  <thead>\\n",
"    <tr style=\"text-align: right;\">\\n",
"      <th></th>\\n",
"      <th>A</th>\\n",
"      <th>B</th>\\n",
"    </tr>\\n",
"  </thead>\\n",
"  <tbody>\\n",
"    <tr>\\n",
"      <th>0</th>\\n",
"      <td>A0</td>\\n",
"      <td>B0</td>\\n",
"    </tr>\\n",
"    <tr>\\n",
"      <th>1</th>\\n",
"      <td>A1</td>\\n",
"      <td>B1</td>\\n",
"    </tr>\\n",
"    <tr>\\n",
"      <th>2</th>\\n",
"      <td>A2</td>\\n",
"      <td>B2</td>\\n",
"    </tr>\\n",
"    <tr>\\n",
"      <th>3</th>\\n",
"      <td>A3</td>\\n",
"      <td>B3</td>\\n",
"    </tr>\\n",
"  </tbody>\\n",
"</table>\\n",
"</div>"
],
"text/plain": [
"    A   B\\n",
"0  A0  B0\\n",
"1  A1  B1\\n",
"2  A2  B2\\n",
"3  A3  B3"
]
},
"execution_count": 18,
"metadata": {},
"output_type": "execute_result"
}
],
"source": [
"df1 = pd.DataFrame({'A': ['A0', 'A1'], 'B': ['B0', 'B1']})\\n",
"df2 = pd.DataFrame({'A': ['A2', 'A3'], 'B': ['B2', 'B3']})\\n",
"\\n",
"# use ignore_index=True to reset the index\\n",
"pd.concat([df1, df2], ignore_index=True)"
]
},
{
"cell_type": "markdown",
"metadata": {},
"source": [
"• **Question**: How do you perform an SQL-style merge (or join) on two DataFrames based on a common key?"
]
},
{
"cell_type": "code",
"execution_count": 19,
"metadata": {},
"outputs": [
{
"data": {
"text/html": [
"<div>\\n",
"<style scoped>\\n",
"    .dataframe tbody tr th:only-of-type {\\n",
"        vertical-align: middle;\\n",
"    }\\n",
"\\n",
"    .dataframe tbody tr th {\\n",
"        vertical-align: top;\\n",
"    }\\n",
"\\n",
"    .dataframe thead th {\\n",
"        text-align: right;\\n",
"    }\\n",
"</style>\\n",
"<table border=\"1\" class=\"dataframe\">\\n",
"  <thead>\\n",
"    <tr style=\"text-align: right;\">\\n",
"      <th></th>\\n",
"      <th>key</th>\\n",
"      <th>A</th>\\n",
"      <th>B</th>\\n",
"    </tr>\\n",
"  </thead>\\n",
"  <tbody>\\n",
"    <tr>\\n",
"      <th>0</th>\\n",
"      <td>K0</td>\\n",
"      <td>A0</td>\\n",
"      <td>B0</td>\\n",
"    </tr>\\n",
"    <tr>\\n",
"      <th>1</th>\\n",
"      <td>K1</td>\\n",
"      <td>A1</td>\\n",
"      <td>B1</td>\\n",
"    </tr>\\n",
"  </tbody>\\n",
"</table>\\n",
"</div>"
],
"text/plain": [
"  key   A   B\\n",
"0  K0  A0  B0\\n",
"1  K1  A1  B1"
]
},
"execution_count": 19,
"metadata": {},
"output_type": "execute_result"
}
],
"source": [
"left = pd.DataFrame({'key': ['K0', 'K1'], 'A': ['A0', 'A1']})\\n",
"right = pd.DataFrame({'key': ['K0', 'K1'], 'B': ['B0', 'B1']})\\n",
"\\n",
"pd.merge(left, right, on='key')"
]
},
{
"cell_type": "markdown",
"metadata": {},
"source": [
"### Section 4.2: Grouping and Aggregation"
]
},
{
"cell_type": "markdown",
"metadata": {},
"source": [
"• **Question**: How can you group a DataFrame by a column and calculate the mean of another column for each group?"
]
},
{
"cell_type": "code",
"execution_count": 20,
"metadata": {},
"outputs": [
{
"data": {
"text/plain": [
"Department\\n",
"HR      72500.0\\n",
"Tech    82500.0\\n",
"Name: Salary, dtype: float64"
]
},
"execution_count": 20,
"metadata": {},
"output_type": "execute_result"
}
],
"source": [
"df_salary = pd.DataFrame({\\n",
"    'Department': ['HR', 'Tech', 'HR', 'Tech'],\\n",
"    'Employee': ['Alice', 'Bob', 'Charlie', 'David'],\\n",
"    'Salary': [70000, 80000, 75000, 85000]\\n",
"})\\n",
"\\n",
"df_salary.groupby('Department')['Salary'].mean()"
]
},
{
"cell_type": "markdown",
"metadata": {},
"source": [
"• **Question**: How do you create a pivot table to show the average sales for each product in each region?"
]
},
{
"cell_type": "code",
"execution_count": 21,
"metadata": {},
"outputs": [
{
"data": {
"text/html": [
"<div>\\n",
"<style scoped>\\n",
"    .dataframe tbody tr th:only-of-type {\\n",
"        vertical-align: middle;\\n",
"    }\\n",
"\\n",
"    .dataframe tbody tr th {\\n",
"        vertical-align: top;\\n",
"    }\\n",
"\\n",
"    .dataframe thead th {\\n",
"        text-align: right;\\n",
"    }\\n",
"</style>\\n",
"<table border=\"1\" class=\"dataframe\">\\n",
"  <thead>\\n",
"    <tr style=\"text-align: right;\">\\n",
"      <th>Product</th>\\n",
"      <th>A</th>\\n",
"      <th>B</th>\\n",
"    </tr>\\n",
"    <tr>\\n",
"      <th>Region</th>\\n",
"      <th></th>\\n",
"      <th></th>\\n",
"    </tr>\\n",
"  </thead>\\n",
"  <tbody>\\n",
"    <tr>\\n",
"      <th>North</th>\\n",
"      <td>250</td>\\n",
"      <td>200</td>\\n",
"    </tr>\\n",
"    <tr>\\n",
"      <th>South</th>\\n",
"      <td>350</td>\\n",
"      <td>450</td>\\n",
"    </tr>\\n",
"    <tr>\\n",
"      <th>West</th>\\n",
"      <td>300</td>\\n",
"      <td>150</td>\\n",
"    </tr>\\n",
"  </tbody>\\n",
"</table>\\n",
"</div>"
],
"text/plain": [
"Product    A    B\\n",
"Region           \\n",
"North    250  200\\n",
"South    350  450\\n",
"West     300  150"
]
},
"execution_count": 21,
"metadata": {},
"output_type": "execute_result"
}
],
"source": [
"sales_data = {\\n",
"    'Region': ['North', 'North', 'West', 'South', 'South', 'West'],\\n",
"    'Product': ['A', 'B', 'A', 'B', 'A', 'B'],\\n",
"    'Sales': [250, 200, 300, 450, 350, 150]\\n",
"}\\n",
"df_sales = pd.DataFrame(sales_data)\\n",
"\\n",
"# 'index' specifies the rows, 'columns' the columns, and 'values' the data to aggregate.\\n",
"df_sales.pivot_table(values='Sales', index='Region', columns='Product', aggfunc='mean')"
]
},
{
"cell_type": "markdown",
"metadata": {},
"source": [
"## Part 5: Time Series Analysis\\n",
"\\n",
"Pandas has powerful features for working with time series data, which is common in fields like finance and IoT."
]
},
{
"cell_type": "markdown",
"metadata": {},
"source": [
"• **Question**: How do you create a range of dates and set it as the index of a DataFrame?"
]
},
{
"cell_type": "code",
"execution_count": 22,
"metadata": {},
"outputs": [
{
"data": {
"text/html": [
"<div>\\n",
"<style scoped>\\n",
"    .dataframe tbody tr th:only-of-type {\\n",
"        vertical-align: middle;\\n",
"    }\\n",
"\\n",
"    .dataframe tbody tr th {\\n",
"        vertical-align: top;\\n",
"    }\\n",
"\\n",
"    .dataframe thead th {\\n",
"        text-align: right;\\n",
"    }\\n",
"</style>\\n",
"<table border=\"1\" class=\"dataframe\">\\n",
"  <thead>\\n",
"    <tr style=\"text-align: right;\">\\n",
"      <th></th>\\n",
"      <th>Value</th>\\n",
"    </tr>\\n",
"  </thead>\\n",
"  <tbody>\\n",
"    <tr>\\n",
"      <th>2023-01-01</th>\\n",
"      <td>1</td>\\n",
"    </tr>\\n",
"    <tr>\\n",
"      <th>2023-01-02</th>\\n",
"      <td>2</td>\\n",
"    </tr>\\n",
"    <tr>\\n",
"      <th>2023-01-03</th>\\n",
"      <td>3</td>\\n",
"    </tr>\\n",
"    <tr>\\n",
"      <th>2023-01-04</th>\\n",
"      <td>4</td>\\n",
"    </tr>\\n",
"    <tr>\\n",
"      <th>2023-01-05</th>\\n",
"      <td>5</td>\\n",
"    </tr>\\n",
"    <tr>\\n",
"      <th>2023-01-06</th>\\n",
"      <td>6</td>\\n",
"    </tr>\\n",
"  </tbody>\\n",
"</table>\\n",
"</div>"
],
"text/plain": [
"            Value\\n",
"2023-01-01      1\\n",
"2023-01-02      2\\n",
"2023-01-03      3\\n",
"2023-01-04      4\\n",
"2023-01-05      5\\n",
"2023-01-06      6"
]
},
"execution_count": 22,
"metadata": {},
"output_type": "execute_result"
}
],
"source": [
"dates = pd.date_range('20230101', periods=6)\\n",
"df_time = pd.DataFrame({'Value': range(1,7)}, index=dates)\\n",
"df_time"
]
},
{
"cell_type": "markdown",
"metadata": {},
"source": [
"• **Question**: What is resampling and how do you downsample time series data (e.g., from hourly to every 2 hours)?"
]
},
{
"cell_type": "code",
"execution_count": 23,
"metadata": {},
"outputs": [
{
"data": {
"text/html": [
"<div>\\n",
"<style scoped>\\n",
"    .dataframe tbody tr th:only-of-type {\\n",
"        vertical-align: middle;\\n",
"    }\\n",
"\\n",
"    .dataframe tbody tr th {\\n",
"        vertical-align: top;\\n",
"    }\\n",
"\\n",
"    .dataframe thead th {\\n",
"        text-align: right;\\n",
"    }\\n",
"</style>\\n",
"<table border=\"1\" class=\"dataframe\">\\n",
"  <thead>\\n",
"    <tr style=\"text-align: right;\">\\n",
"      <th></th>\\n",
"      <th>Value</th>\\n",
"    </tr>\\n",
"  </thead>\\n",
"  <tbody>\\n",
"    <tr>\\n",
"      <th>2016-10-29 17:00:00</th>\\n",
"      <td>4.40</td>\\n",
"    </tr>\\n",
"    <tr>\\n",
"      <th>2016-10-29 19:00:00</th>\\n",
"      <td>5.60</td>\\n",
"    </tr>\\n",
"    <tr>\\n",
"      <th>2016-10-29 21:00:00</th>\\n",
"      <td>6.15</td>\\n",
"    </tr>\\n",
"    <tr>\\n",
"      <th>2016-10-29 23:00:00</th>\\n",
"      <td>5.45</td>\\n",
"    </tr>\\n",
"    <tr>\\n",
"      <th>2016-10-30 01:00:00</th>\\n",
"      <td>4.40</td>\\n",
"    </tr>\\n",
"    <tr>\\n",
"      <th>2016-10-30 03:00:00</th>\\n",
"      <td>3.70</td>\\n",
"    </tr>\\n",
"  </tbody>\\n",
"</table>\\n",
"</div>"
],
"text/plain": [
"                     Value\\n",
"2016-10-29 17:00:00   4.40\\n",
"2016-10-29 19:00:00   5.60\\n",
"2016-10-29 21:00:00   6.15\\n",
"2016-10-29 23:00:00   5.45\\n",
"2016-10-30 01:00:00   4.40\\n",
"2016-10-30 03:00:00   3.70"
]
},
"execution_count": 23,
"metadata": {},
"output_type": "execute_result"
}
],
"source": [
"dates = pd.date_range('2016/10/29 5:30pm', periods=12, freq='H')\\n",
"temperatures = [4.4, 5.1, 6.1, 6.2, 6.1, 6.1, 5.7, 5.2, 4.7, 4.1, 3.9, 3.5]\\n",
"temp_series = pd.Series(temperatures, index=dates)\\n",
"\\n",
"# Resample to 2-hour frequency and calculate the mean for each period\\n",
"temp_series_2h = temp_series.resample(\"2H\").mean()\\n",
"temp_series_2h"
]
},
{
"cell_type": "markdown",
"metadata": {},
"source": [
"## Part 6: Reading and Writing Data\\n",
"\\n",
"Pandas can save and load DataFrames from various formats, making it easy to integrate with other systems."
]
},
{
"cell_type": "markdown",
"metadata": {},
"source": [
"• **Question**: How do you write a DataFrame to a CSV file and then read it back?"
]
},
{
"cell_type": "code",
"execution_count": 24,
"metadata": {},
"outputs": [
{
"name": "stdout",
"output_type": "stream",
"text": [
"--- DataFrame written to 'sample_data.csv' ---\\n",
"\\n",
"--- DataFrame read back from CSV ---\\n",
"  Unnamed: 0    Name  Age         City\\n",
"0          0   Alice   25     New York\\n",
"1          1     Bob   30  Los Angeles\\n",
"2          2   Charlie   35      Chicago\\n"
]
}
],
"source": [
"# Writing to CSV\\n",
"# index=False prevents pandas from writing the row index as a column\\n",
"df.to_csv('sample_data.csv', index=False)\\n",
"print(\"--- DataFrame written to 'sample_data.csv' ---\")\\n",
"\\n",
"# Reading from CSV\\n",
"print(\"\\n--- DataFrame read back from CSV ---\")\\n",
"df_read = pd.read_csv('sample_data.csv')\\n",
"print(df_read)"
]
},
{
"cell_type": "markdown",
"metadata": {},
"source": [
"## Part 7: Practical Application - Feature Engineering for AI/ML"
]
},
{
"cell_type": "markdown",
"metadata": {},
"source": [
"Pandas is a cornerstone of the data preparation phase in machine learning projects. Here are two common feature engineering tasks."
]
},
{
"cell_type": "markdown",
"metadata": {},
"source": [
"• **Question**: What is one-hot encoding and how can you perform it on a categorical feature using pandas?"
]
},
{
"cell_type": "markdown",
"metadata": {},
"source": [
"**Answer**: One-hot encoding is a process of converting categorical data variables into a numerical format that machine learning algorithms can understand. The `pd.get_dummies()` function is perfect for this."
]
},
{
"cell_type": "code",
"execution_count": 25,
"metadata": {},
"outputs": [
{
"data": {
"text/html": [
"<div>\\n",
"<style scoped>\\n",
"    .dataframe tbody tr th:only-of-type {\\n",
"        vertical-align: middle;\\n",
"    }\\n",
"\\n",
"    .dataframe tbody tr th {\\n",
"        vertical-align: top;\\n",
"    }\\n",
"\\n",
"    .dataframe thead th {\\n",
"        text-align: right;\\n",
"    }\\n",
"</style>\\n",
"<table border=\"1\" class=\"dataframe\">\\n",
"  <thead>\\n",
"    <tr style=\"text-align: right;\">\\n",
"      <th></th>\\n",
"      <th>Color_Blue</th>\\n",
"      <th>Color_Green</th>\\n",
"      <th>Color_Red</th>\\n",
"    </tr>\\n",
"  </thead>\\n",
"  <tbody>\\n",
"    <tr>\\n",
"      <th>0</th>\\n",
"      <td>False</td>\\n",
"      <td>False</td>\\n",
"      <td>True</td>\\n",
"    </tr>\\n",
"    <tr>\\n",
"      <th>1</th>\\n",
"      <td>True</td>\\n",
"      <td>False</td>\\n",
"      <td>False</td>\\n",
"    </tr>\\n",
"    <tr>\\n",
"      <th>2</th>\\n",
"      <td>False</td>\\n",
"      <td>True</td>\\n",
"      <td>False</td>\\n",
"    </tr>\\n",
"  </tbody>\\n",
"</table>\\n",
"</div>"
],
"text/plain": [
"   Color_Blue  Color_Green  Color_Red\\n",
"0       False        False       True\\n",
"1        True        False      False\\n",
"2       False         True      False"
]
},
"execution_count": 25,
"metadata": {},
"output_type": "execute_result"
}
],
"source": [
"df_color = pd.DataFrame({'Color': ['Red', 'Blue', 'Green']})\\n",
"pd.get_dummies(df_color, dtype=bool)"
]
},
{
"cell_type": "markdown",
"metadata": {},
"source": [
"• **Question**: How can you normalize a numerical feature to a range between 0 and 1?"
]
},
{
"cell_type": "markdown",
"metadata": {},
"source": [
"**Answer**: Normalization (specifically min-max scaling) is a technique to scale numerical features to a fixed range, typically 0 to 1. This is often done using the `MinMaxScaler` from the `scikit-learn` library."
]
},
{
"cell_type": "code",
"execution_count": 26,
"metadata": {},
"outputs": [
{
"data": {
"text/html": [
"<div>\\n",
"<style scoped>\\n",
"    .dataframe tbody tr th:only-of-type {\\n",
"        vertical-align: middle;\\n",
"    }\\n",
"\\n",
"    .dataframe tbody tr th {\\n",
"        vertical-align: top;\\n",
"    }\\n",
"\\n",
"    .dataframe thead th {\\n",
"        text-align: right;\\n",
"    }\\n",
"</style>\\n",
"<table border=\"1\" class=\"dataframe\">\\n",
"  <thead>\\n",
"    <tr style=\"text-align: right;\">\\n",
"      <th></th>\\n",
"      <th>Values</th>\\n",
"      <th>Normalized</th>\\n",
"    </tr>\\n",
"  </thead>\\n",
"  <tbody>\\n",
"    <tr>\\n",
"      <th>0</th>\\n",
"      <td>10</td>\\n",
"      <td>0.00</td>\\n",
"    </tr>\\n",
"    <tr>\\n",
"      <th>1</th>\\n",
"      <td>20</td>\\n",
"      <td>0.25</td>\\n",
"    </tr>\\n",
"    <tr>\\n",
"      <th>2</th>\\n",
"      <td>30</td>\\n",
"      <td>0.50</td>\\n",
"    </tr>\\n",
"    <tr>\\n",
"      <th>3</th>\\n",
"      <td>40</td>\\n",
"      <td>0.75</td>\\n",
"    </tr>\\n",
"    <tr>\\n",
"      <th>4</th>\\n",
"      <td>50</td>\\n",
"      <td>1.00</td>\\n",
"    </tr>\\n",
"  </tbody>\\n",
"</table>\\n",
"</div>"
],
"text/plain": [
"   Values  Normalized\\n",
"0      10        0.00\\n",
"1      20        0.25\\n",
"2      30        0.50\\n",
"3      40        0.75\\n",
"4      50        1.00"
]
},
"execution_count": 26,
"metadata": {},
"output_type": "execute_result"
}
],
"source": [
"from sklearn.preprocessing import MinMaxScaler\\n",
"\\n",
"df_norm = pd.DataFrame({'Values': [10, 20, 30, 40, 50]})\\n",
"scaler = MinMaxScaler()\\n",
"df_norm['Normalized'] = scaler.fit_transform(df_norm[['Values']])\\n",
"df_norm"
]
},
{
"cell_type": "markdown",
"metadata": {},
"source": [
"## Summary and Next Steps\\n",
"\\n",
"Congratulations! You've worked through the fundamentals of pandas, from data structures and inspection to advanced topics like time series analysis and feature engineering.\\n",
"\\n",
"### Key Concepts Covered:\\n",
"- **Core Objects**: Creating and manipulating `Series` and `DataFrames`.\\n",
"- **Inspection**: Using `.head()`, `.info()`, and `.describe()` to understand your data.\\n",
"- **Selection**: Accessing data using labels (`.loc`) and positions (`.iloc`), and boolean indexing.\\n",
"- **Data Cleaning**: Handling missing data with `.dropna()`, `.fillna()`, and `.interpolate()`.\\n",
"- **Combining Datasets**: Concatenating (`.concat()`) and merging (`.merge()`) DataFrames.\\n",
"- **Aggregation**: Grouping data (`.groupby()`) and creating pivot tables to summarize information.\\n",
"- **Time Series**: Working with date ranges, resampling, and timezones.\\n",
"- **I/O**: Reading from and writing to files like CSV.\\n",
"- **AI/ML Prep**: Preparing data for machine learning with one-hot encoding and normalization.\\n",
"\\n",
"### Recommended Next Steps:\\n",
"- **Practice**: The best way to learn is by doing. Find a real-world dataset from a source like Kaggle or data.gov and try to apply the skills you've learned here.\\n",
"- **Advanced Functions**: Explore more advanced pandas functionalities like `crosstab()`, window functions (`.rolling()`), and more complex multi-level indexing.\\n",
"- **Visualization**: Dive deeper into plotting with pandas, which integrates with libraries like Matplotlib and Seaborn, to create more sophisticated data visualizations.\\n",
"- **Documentation**: Refer to the excellent pandas documentation, especially the Cookbook, for more examples and detailed explanations.\\n",
"\\n",
"Happy coding! 🚀"
]
}
],
"metadata": {
"kernelspec": {
"display_name": "Python 3",
"language": "python",
"name": "python3"
},
"language_info": {
"codemirror_mode": {
"name": "ipython",
"version": 3
},
"file_extension": ".py",
"mimetype": "text/x-python",
"name": "python",
"nbconvert_exporter": "python",
"pygments_lexer": "ipython3",
"version": "3.9.7"
}
},
"nbformat": 4,
"nbformat_minor": 4
}

