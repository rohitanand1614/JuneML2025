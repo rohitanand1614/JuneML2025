{
 "cells": [
  {
   "cell_type": "markdown",
   "metadata": {},
   "source": [
    "# The Ultimate NumPy Guide: A Q&A Tutorial\n",
    "\n",
    "*A Progressive Learning Jupyter Notebook*\n",
    "\n",
    "Welcome to your comprehensive NumPy learning journey! This notebook is designed to take you from beginner to proficient in just one week through structured question-and-answer practice.\n",
    "\n",
    "**What is NumPy?**\n",
    "NumPy is the fundamental library for scientific computing with Python. It is centered around a powerful N-dimensional array object (`ndarray`) and provides useful linear algebra, Fourier transform, and random number functions.\n",
    "\n",
    "**Learning Approach:**\n",
    "- Each concept starts with a simple question.\n",
    "- Code examples and explanations follow immediately.\n",
    "- Complexity builds gradually day by day.\n",
    "- Practical AI/ML applications are included.\n",
    "\n",
    "---"
   ]
  },
  {
   "cell_type": "markdown",
   "metadata": {},
   "source": [
    "## Day 1: Getting Started with NumPy Arrays\n",
    "\n",
    "Today, we'll cover the absolute basics: importing the library, creating your first arrays, and understanding their core properties."
   ]
  },
  {
   "cell_type": "markdown",
   "metadata": {},
   "source": [
    "### **Question 1:** Write a single line of code to import the NumPy library. What is the standard syntax?"
   ]
  },
  {
   "cell_type": "code",
   "execution_count": 1,
   "metadata": {},
   "outputs": [],
   "source": [
    "import numpy as np"
   ]
  },
  {
   "cell_type": "markdown",
   "metadata": {},
   "source": [
    "**Explanation:** We import NumPy with the alias `np`. This is the universal convention used by all data scientists and AI engineers worldwide."
   ]
  },
  {
   "cell_type": "markdown",
   "metadata": {},
   "source": [
    "### **Question 2:** How do you create a simple 1D array with the numbers [1, 2, 3, 4, 5]?"
   ]
  },
  {
   "cell_type": "code",
   "execution_count": 2,
   "metadata": {},
   "outputs": [
    {
     "name": "stdout",
     "output_type": "stream",
     "text": [
      "1D Array: [1 2 3 4 5]\n",
      "Type: <class 'numpy.ndarray'>\n"
     ]
    }
   ],
   "source": [
    "# Create a 1D array\n",
    "arr_1d = np.array([1, 2, 3, 4, 5])\n",
    "print(\"1D Array:\", arr_1d)\n",
    "print(\"Type:\", type(arr_1d))"
   ]
  },
  {
   "cell_type": "markdown",
   "metadata": {},
   "source": [
    "### **Question 3:** What are the core attributes of a NumPy array? Define 'shape', 'ndim', 'size', and 'dtype'."
   ]
  },
  {
   "cell_type": "code",
   "execution_count": 3,
   "metadata": {},
   "outputs": [
    {
     "name": "stdout",
     "output_type": "stream",
     "text": [
      "Shape (rows, columns): (2, 3)\n",
      "Number of dimensions (rank): 2\n",
      "Total elements (size): 6\n",
      "Data type of elements: int64\n"
     ]
    }
   ],
   "source": [
    "arr_2d = np.array([[1, 2, 3], [4, 5, 6]])\n",
    "\n",
    "# The shape is a tuple listing the length of the array along each dimension.\n",
    "print(\"Shape (rows, columns):\", arr_2d.shape)\n",
    "\n",
    "# The number of dimensions is the array's rank.\n",
    "print(\"Number of dimensions (rank):\", arr_2d.ndim)\n",
    "\n",
    "# The size is the total number of elements.\n",
    "print(\"Total elements (size):\", arr_2d.size)\n",
    "\n",
    "# The dtype is the data type of the array's elements.\n",
    "print(\"Data type of elements:\", arr_2d.dtype)"
   ]
  },
  {
   "cell_type": "markdown",
   "metadata": {},
   "source": [
    "### **Question 4:** What's the key difference between a Python list and a NumPy array when performing mathematical operations?"
   ]
  },
  {
   "cell_type": "code",
   "execution_count": 4,
   "metadata": {},
   "outputs": [
    {
     "name": "stdout",
     "output_type": "stream",
     "text": [
      "--- Key Differences ---\n",
      "List multiplication (repeats elements): [1, 2, 3, 1, 2, 3]\n",
      "Array multiplication (element-wise math): [2 4 6]\n"
     ]
    }
   ],
   "source": [
    "python_list = [1, 2, 3]\n",
    "numpy_array = np.array([1, 2, 3])\n",
    "\n",
    "print(\"--- Key Differences ---\")\n",
    "print(\"List multiplication (repeats elements):\", python_list * 2)\n",
    "print(\"Array multiplication (element-wise math):\", numpy_array * 2)"
   ]
  },
  {
   "cell_type": "markdown",
   "metadata": {},
   "source": [
    "---\n",
    "\n",
    "## **Day 2: Array Creation Methods**\n",
    "\n",
    "Beyond creating arrays from lists, NumPy provides several efficient functions for generating arrays."
   ]
  },
  {
   "cell_type": "markdown",
   "metadata": {},
   "source": [
    "### **Question 5:** How do you create an array of a specific shape filled with zeros or ones?"
   ]
  },
  {
   "cell_type": "code",
   "execution_count": 5,
   "metadata": {},
   "outputs": [
    {
     "name": "stdout",
     "output_type": "stream",
     "text": [
      "Zeros array (2x3):\n",
      "[[0. 0. 0.]\n",
      " [0. 0. 0.]]\n",
      "\n",
      "Ones array (3x2):\n",
      "[[1. 1.]\n",
      " [1. 1.]\n",
      " [1. 1.]]\n"
     ]
    }
   ],
   "source": [
    "# Array of zeros\n",
    "zeros = np.zeros((2, 3))\n",
    "print(\"Zeros array (2x3):\")\n",
    "print(zeros)\n",
    "\n",
    "# Array of ones\n",
    "ones = np.ones((3, 2))\n",
    "print(\"\\nOnes array (3x2):\")\n",
    "print(ones)"
   ]
  },
  {
   "cell_type": "markdown",
   "metadata": {},
   "source": [
    "### **Question 6:** How do you create an array filled with a specific value?"
   ]
  },
  {
   "cell_type": "code",
   "execution_count": 6,
   "metadata": {},
   "outputs": [
    {
     "name": "stdout",
     "output_type": "stream",
     "text": [
      "An array filled with 3.14:\n",
      "[[3.14 3.14]\n",
      " [3.14 3.14]]\n"
     ]
    }
   ],
   "source": [
    "# Create an array filled with the value of pi\n",
    "pi_array = np.full((2, 2), np.pi)\n",
    "print(\"An array filled with 3.14:\")\n",
    "print(np.round(pi_array, 2))"
   ]
  },
  {
   "cell_type": "markdown",
   "metadata": {},
   "source": [
    "### **Question 7:** How do you create an array with a range of numbers, similar to Python's `range()`?"
   ]
  },
  {
   "cell_type": "code",
   "execution_count": 7,
   "metadata": {},
   "outputs": [
    {
     "name": "stdout",
     "output_type": "stream",
     "text": [
      "Range from 0 to 9 with step 2: [0 2 4 6 8]\n",
      "Range from 0 up to 5: [0 1 2 3 4]\n"
     ]
    }
   ],
   "source": [
    "# The np.arange() function creates a range of values.\n",
    "# Syntax: np.arange(start, stop, step)\n",
    "\n",
    "range_arr = np.arange(0, 10, 2)  # start, end (exclusive), step\n",
    "print(\"Range from 0 to 9 with step 2:\", range_arr)\n",
    "print(\"Range from 0 up to 5:\", np.arange(5))"
   ]
  },
  {
   "cell_type": "markdown",
   "metadata": {},
   "source": [
    "### **Question 8:** How do you create an array of evenly spaced numbers between a start and end point?"
   ]
  },
  {
   "cell_type": "markdown",
   "metadata": {},
   "source": [
    "**Answer**: The `np.linspace()` function is perfect for this. Unlike `arange`, `linspace` includes the endpoint and takes the number of points as an argument, not the step size."
   ]
  },
  {
   "cell_type": "code",
   "execution_count": 8,
   "metadata": {},
   "outputs": [
    {
     "name": "stdout",
     "output_type": "stream",
     "text": [
      "5 evenly spaced points between 0 and 1: [0.   0.25 0.5  0.75 1.  ]\n",
      "10 evenly spaced points between -1 and 1: [-1.         -0.77777778 -0.55555556 -0.33333333 -0.11111111  0.11111111\n",
      "  0.33333333  0.55555556  0.77777778  1.        ]\n"
     ]
    }
   ],
   "source": [
    "# Syntax: np.linspace(start, stop, num_points)\n",
    "linspace_arr = np.linspace(0, 1, 5)\n",
    "print(\"5 evenly spaced points between 0 and 1:\", linspace_arr)\n",
    "\n",
    "print(\"10 evenly spaced points between -1 and 1:\", np.linspace(-1, 1, 10))"
   ]
  },
  {
   "cell_type": "markdown",
   "metadata": {},
   "source": [
    "### **Question 9:** How do you create a 3D array? Make a 2x2x2 array."
   ]
  },
  {
   "cell_type": "code",
   "execution_count": 9,
   "metadata": {},
   "outputs": [
    {
     "name": "stdout",
     "output_type": "stream",
     "text": [
      "3D Array:\n",
      "[[[1 2]\n",
      "  [3 4]]\n",
      "\n",
      " [[5 6]\n",
      "  [7 8]]]\n",
      "Shape: (2, 2, 2)\n"
     ]
    }
   ],
   "source": [
    "# 3D array creation from a nested list\n",
    "arr_3d = np.array([[[1, 2], [3, 4]], [[5, 6], [7, 8]]])\n",
    "print(\"3D Array:\")\n",
    "print(arr_3d)\n",
    "print(\"Shape:\", arr_3d.shape)"
   ]
  },
  {
   "cell_type": "markdown",
   "metadata": {},
   "source": [
    "---\n",
    "\n",
    "## **Day 3: Accessing and Modifying Arrays**\n",
    "\n",
    "This is where NumPy's power becomes evident. Efficiently selecting and changing parts of your data is crucial for any data task."
   ]
  },
  {
   "cell_type": "markdown",
   "metadata": {},
   "source": [
    "### **Question 10:** How do you access individual elements in a 2D array?"
   ]
  },
  {
   "cell_type": "code",
   "execution_count": 10,
   "metadata": {},
   "outputs": [
    {
     "name": "stdout",
     "output_type": "stream",
     "text": [
      "Original array:\n",
      "[[1 2 3]\n",
      " [4 5 6]\n",
      " [7 8 9]]\n",
      "\n",
      "Element at row 0, column 1: 2\n",
      "First element (top-left): 1\n",
      "Last element (bottom-right): 9\n"
     ]
    }
   ],
   "source": [
    "arr = np.array([[1, 2, 3], [4, 5, 6], [7, 8, 9]])\n",
    "print(\"Original array:\")\n",
    "print(arr)\n",
    "\n",
    "# Accessing elements using [row, column] syntax\n",
    "print(\"\\nElement at row 0, column 1:\", arr[0, 1])\n",
    "print(\"First element (top-left):\", arr[0, 0])\n",
    "print(\"Last element (bottom-right):\", arr[-1, -1])"
   ]
  },
  {
   "cell_type": "markdown",
   "metadata": {},
   "source": [
    "### **Question 11:** How do you slice arrays to get entire rows, columns, or subarrays?"
   ]
  },
  {
   "cell_type": "code",
   "execution_count": 11,
   "metadata": {},
   "outputs": [
    {
     "name": "stdout",
     "output_type": "stream",
     "text": [
      "Original array:\n",
      "[[1 2 3]\n",
      " [4 5 6]\n",
      " [7 8 9]]\n",
      "\n",
      "--- Slicing ---\n",
      "Second row (index 1): [4 5 6]\n",
      "First column: [1 4 7]\n",
      "First two rows and last two columns:\n",
      "[[2 3]\n",
      " [5 6]]\n"
     ]
    }
   ],
   "source": [
    "print(\"Original array:\")\n",
    "print(arr)\n",
    "\n",
    "# The colon `:` means select all elements along that axis.\n",
    "print(\"\\n--- Slicing ---\")\n",
    "print(\"Second row (index 1):\", arr[1, :])  # or simply arr[1]\n",
    "print(\"First column:\", arr[:, 0])\n",
    "print(\"First two rows and last two columns:\")\n",
    "print(arr[:2, 1:])  # rows 0-1, columns 1-2"
   ]
  },
  {
   "cell_type": "markdown",
   "metadata": {},
   "source": [
    "### **Question 12:** What is the difference between a slice being a 'view' vs a 'copy'? How do you explicitly make a copy?"
   ]
  },
  {
   "cell_type": "markdown",
   "metadata": {},
   "source": [
    "**Answer**: This is a critical concept. Unlike Python lists, NumPy array slices are *views* into the original array. This means they share the same underlying data buffer. Modifying the view will modify the original array. If you need a separate copy, you must use the `.copy()` method."
   ]
  },
  {
   "cell_type": "code",
   "execution_count": 12,
   "metadata": {},
   "outputs": [
    {
     "name": "stdout",
     "output_type": "stream",
     "text": [
      "Original array:\n",
      "[0 1 2 3 4 5]\n",
      "\n",
      "--- Modifying a View ---\n",
      "Slice (view): [2 3 4]\n",
      "After modifying slice, original array is also changed: [  0   1 999   3   4   5]\n",
      "\n",
      "--- Modifying a Copy ---\n",
      "Original array:\n",
      "[0 1 2 3 4 5]\n",
      "Slice (copy): [2 3 4]\n",
      "After modifying copy, original array is unchanged: [0 1 2 3 4 5]\n"
     ]
    }
   ],
   "source": [
    "# Demonstrate the 'view' concept\n",
    "original_arr = np.arange(6)\n",
    "print(\"Original array:\\n\", original_arr)\n",
    "\n",
    "slice_view = original_arr[2:5] # This is a view\n",
    "print(\"\\n--- Modifying a View ---\")\n",
    "print(\"Slice (view):\", slice_view)\n",
    "slice_view[0] = 999 # Modify the slice\n",
    "print(\"After modifying slice, original array is also changed:\", original_arr)\n",
    "\n",
    "# Demonstrate the 'copy' method\n",
    "original_arr = np.arange(6) # Reset original array\n",
    "slice_copy = original_arr[2:5].copy() # This is a copy\n",
    "print(\"\\n--- Modifying a Copy ---\")\n",
    "print(\"Original array:\\n\", original_arr)\n",
    "print(\"Slice (copy):\", slice_copy)\n",
    "slice_copy[0] = 999 # Modify the copy\n",
    "print(\"After modifying copy, original array is unchanged:\", original_arr)"
   ]
  },
  {
   "cell_type": "markdown",
   "metadata": {},
   "source": [
    "### **Question 13:** How do you use boolean arrays to select data? (Boolean Indexing)"
   ]
  },
  {
   "cell_type": "code",
   "execution_count": 13,
   "metadata": {},
   "outputs": [
    {
     "name": "stdout",
     "output_type": "stream",
     "text": [
      "Original array:\n",
      "[[1 2 3]\n",
      " [4 5 6]\n",
      " [7 8 9]]\n",
      "\n",
      "Values greater than 5: [6 7 8 9]\n"
     ]
    }
   ],
   "source": [
    "print(\"Original array:\")\n",
    "print(arr)\n",
    "\n",
    "# Create a boolean mask\n",
    "mask = arr > 5\n",
    "# print(\"Boolean Mask:\\n\", mask)\n",
    "\n",
    "# Use the mask to select elements\n",
    "print(\"Values greater than 5:\", arr[mask])"
   ]
  },
  {
   "cell_type": "markdown",
   "metadata": {},
   "source": [
    "---\n",
    "\n",
    "## **Day 4: Basic Operations and Broadcasting**\n",
    "\n",
    "Broadcasting is one of NumPy's most powerful features. It describes how NumPy treats arrays with different shapes during arithmetic operations."
   ]
  },
  {
   "cell_type": "markdown",
   "metadata": {},
   "source": [
    "### **Question 14:** How do you perform basic arithmetic operations between arrays of the same shape?"
   ]
  },
  {
   "cell_type": "code",
   "execution_count": 14,
   "metadata": {},
   "outputs": [
    {
     "name": "stdout",
     "output_type": "stream",
     "text": [
      "Array a: [1 2 3 4]\n",
      "Array b: [10 20 30 40]\n",
      "\n",
      "Addition (a + b): [11 22 33 44]\n",
      "Multiplication (a * b): [ 10  40  90 160]\n"
     ]
    }
   ],
   "source": [
    "# Create two arrays for operations\n",
    "a = np.array([1, 2, 3, 4])\n",
    "b = np.array([10, 20, 30, 40])\n",
    "\n",
    "print(\"Array a:\", a)\n",
    "print(\"Array b:\", b)\n",
    "\n",
    "# Element-wise operations\n",
    "print(\"\\nAddition (a + b):\", a + b)\n",
    "print(\"Multiplication (a * b):\", a * b)"
   ]
  },
  {
   "cell_type": "markdown",
   "metadata": {},
   "source": [
    "### **Question 15:** What is broadcasting and how does it work when operating between a multi-dimensional array and a 1D array?"
   ]
  },
  {
   "cell_type": "markdown",
   "metadata": {},
   "source": [
    "**Answer**: Broadcasting allows NumPy to work with arrays of different shapes. When operating on two arrays, NumPy compares their shapes element-wise. It starts with the trailing dimensions and works its way forward. Two dimensions are compatible when:\n",
    "1. They are equal, or\n",
    "2. One of them is 1.\n",
    "\n",
    "If these conditions are not met, a `ValueError` is thrown. When one of the dimensions is 1, it is 'stretched' or 'broadcast' to match the other."
   ]
  },
  {
   "cell_type": "code",
   "execution_count": 15,
   "metadata": {},
   "outputs": [
    {
     "name": "stdout",
     "output_type": "stream",
     "text": [
      "Matrix (2x3):\n",
      "[[1 2 3]\n",
      " [4 5 6]]\n",
      "\n",
      "Vector (3,):\n",
      "[10 20 30]\n",
      "\n",
      "Matrix + Vector (broadcasting):\n",
      "[[11 22 33]\n",
      " [14 25 36]]\n"
     ]
    }
   ],
   "source": [
    "# Broadcasting a 1D array to a 2D array\n",
    "matrix = np.array([[1, 2, 3], [4, 5, 6]]) # Shape: (2, 3)\n",
    "vector = np.array([10, 20, 30])           # Shape: (3,)\n",
    "\n",
    "print(\"Matrix (2x3):\")\n",
    "print(matrix)\n",
    "print(\"\\nVector (3,):\")\n",
    "print(vector)\n",
    "\n",
    "# The vector is stretched across both rows of the matrix for the addition.\n",
    "result = matrix + vector\n",
    "print(\"\\nMatrix + Vector (broadcasting):\")\n",
    "print(result)"
   ]
  },
  {
   "cell_type": "markdown",
   "metadata": {},
   "source": [
    "### **Question 16:** How do you calculate the dot product and perform matrix multiplication?"
   ]
  },
  {
   "cell_type": "code",
   "execution_count": 16,
   "metadata": {},
   "outputs": [
    {
     "name": "stdout",
     "output_type": "stream",
     "text": [
      "--- Dot Product ---\n",
      "Vector a: [1 2 3]\n",
      "Vector b: [4 5 6]\n",
      "Dot product (a @ b): 32\n",
      "\n",
      "--- Matrix Multiplication ---\n",
      "Matrix A:\n",
      "[[1 2]\n",
      " [3 4]]\n",
      "Matrix B:\n",
      "[[5 6]\n",
      " [7 8]]\n",
      "Matrix multiplication (A @ B):\n",
      "[[19 22]\n",
      " [43 50]]\n"
     ]
    }
   ],
   "source": [
    "# The `@` operator is used for matrix multiplication in NumPy.\n",
    "\n",
    "# Dot product for 1D arrays (vectors)\n",
    "a = np.array([1, 2, 3])\n",
    "b = np.array([4, 5, 6])\n",
    "print(\"--- Dot Product ---\")\n",
    "print(\"Vector a:\", a)\n",
    "print(\"Vector b:\", b)\n",
    "print(\"Dot product (a @ b):\", a @ b)\n",
    "\n",
    "# Matrix multiplication\n",
    "A = np.array([[1, 2], [3, 4]])\n",
    "B = np.array([[5, 6], [7, 8]])\n",
    "print(\"\\n--- Matrix Multiplication ---\")\n",
    "print(\"Matrix A:\\n\", A)\n",
    "print(\"Matrix B:\\n\", B)\n",
    "print(\"Matrix multiplication (A @ B):\\n\", A @ B)"
   ]
  },
  {
   "cell_type": "markdown",
   "metadata": {},
   "source": [
    "---\n",
    "\n",
    "## **Day 5: Mathematical Functions and Statistics**\n",
    "\n",
    "NumPy provides a huge library of fast mathematical functions and statistical methods."
   ]
  },
  {
   "cell_type": "markdown",
   "metadata": {},
   "source": [
    "### **Question 17:** How do you apply mathematical functions (like square root, sin, cos) to entire arrays?"
   ]
  },
  {
   "cell_type": "markdown",
   "metadata": {},
   "source": [
    "**Answer**: These are called Universal Functions (ufuncs). They operate element-wise on an array, producing an array as output."
   ]
  },
  {
   "cell_type": "code",
   "execution_count": 17,
   "metadata": {},
   "outputs": [
    {
     "name": "stdout",
     "output_type": "stream",
     "text": [
      "Original array: [1. 4. 9.]\n",
      "Square root: [1. 2. 3.]\n",
      "Exponential (e^x): [2.71828183e+00 5.45981500e+01 8.10308393e+03]\n",
      "\n",
      "Angles (radians): [0.         1.57079633]\n",
      "Sine: [0. 1.]\n"
     ]
    }
   ],
   "source": [
    "# Universal functions (ufuncs)\n",
    "arr = np.array([1.0, 4.0, 9.0])\n",
    "print(\"Original array:\", arr)\n",
    "print(\"\\nSquare root:\", np.sqrt(arr))\n",
    "print(\"Exponential (e^x):\", np.exp(arr))\n",
    "\n",
    "angles = np.array([0, np.pi/2])\n",
    "print(\"\\nAngles (radians):\", angles)\n",
    "print(\"Sine:\", np.sin(angles))"
   ]
  },
  {
   "cell_type": "markdown",
   "metadata": {},
   "source": [
    "### **Question 18:** How do you compute basic statistics like mean, median, min, max, and standard deviation?"
   ]
  },
  {
   "cell_type": "code",
   "execution_count": 18,
   "metadata": {},
   "outputs": [
    {
     "name": "stdout",
     "output_type": "stream",
     "text": [
      "Data: [0 1 2 3 4 5 6 7 8 9]\n",
      "\n",
      "--- Basic Statistics ---\n",
      "Mean: 4.5\n",
      "Median: 4.5\n",
      "Standard deviation: 2.8722813232690143\n",
      "Minimum: 0\n",
      "Maximum: 9\n",
      "Sum: 45\n"
     ]
    }
   ],
   "source": [
    "data = np.arange(10)\n",
    "print(\"Data:\", data)\n",
    "\n",
    "print(\"\\n--- Basic Statistics ---\")\n",
    "print(\"Mean:\", np.mean(data))\n",
    "print(\"Median:\", np.median(data))\n",
    "print(\"Standard deviation:\", np.std(data))\n",
    "print(\"Minimum:\", np.min(data))\n",
    "print(\"Maximum:\", np.max(data))\n",
    "print(\"Sum:\", np.sum(data))"
   ]
  },
  {
   "cell_type": "markdown",
   "metadata": {},
   "source": [
    "### **Question 19:** How do you compute statistics along specific axes in a multi-dimensional array?"
   ]
  },
  {
   "cell_type": "code",
   "execution_count": 19,
   "metadata": {},
   "outputs": [
    {
     "name": "stdout",
     "output_type": "stream",
     "text": [
      "Matrix:\n",
      "[[1 2 3]\n",
      " [4 5 6]\n",
      " [7 8 9]]\n",
      "\n",
      "--- Column-wise statistics (axis=0) ---\n",
      "Sum of each column: [12 15 18]\n",
      "\n",
      "--- Row-wise statistics (axis=1) ---\n",
      "Mean of each row: [2. 5. 8.]\n"
     ]
    }
   ],
   "source": [
    "matrix = np.array([[1, 2, 3], [4, 5, 6], [7, 8, 9]])\n",
    "print(\"Matrix:\")\n",
    "print(matrix)\n",
    "\n",
    "print(\"\\n--- Column-wise statistics (axis=0) ---\")\n",
    "print(\"Sum of each column:\", np.sum(matrix, axis=0))\n",
    "\n",
    "print(\"\\n--- Row-wise statistics (axis=1) ---\")\n",
    "print(\"Mean of each row:\", np.mean(matrix, axis=1))"
   ]
  },
  {
   "cell_type": "markdown",
   "metadata": {},
   "source": [
    "---\n",
    "\n",
    "## **Day 6: Random Numbers and Linear Algebra**\n",
    "\n",
    "These are fundamental topics for creating simulations, initializing neural networks, and solving systems of equations."
   ]
  },
  {
   "cell_type": "markdown",
   "metadata": {},
   "source": [
    "### **Question 20:** How do you generate random numbers, and why is setting a 'seed' important?"
   ]
  },
  {
   "cell_type": "markdown",
   "metadata": {},
   "source": [
    "**Answer**: `np.random` provides tools for random number generation. Setting a seed with `np.random.seed()` ensures that you get the exact same sequence of \"random\" numbers every time you run the code. This is crucial for making your experiments and results reproducible."
   ]
  },
  {
   "cell_type": "code",
   "execution_count": 20,
   "metadata": {},
   "outputs": [
    {
     "name": "stdout",
     "output_type": "stream",
     "text": [
      "--- Random Number Generation ---\n",
      "\n",
      "Random integers (0-9):\n",
      "[[3 7]\n",
      " [9 2]]\n",
      "\n",
      "Random floats (uniform 0-1):\n",
      "[[0.37083839 0.69431264]\n",
      " [0.81438996 0.23933994]]\n"
     ]
    }
   ],
   "source": [
    "# Set seed for reproducibility\n",
    "np.random.seed(42)\n",
    "\n",
    "print(\"--- Random Number Generation ---\")\n",
    "\n",
    "# Random integers between 0 (inclusive) and 10 (exclusive)\n",
    "random_ints = np.random.randint(0, 10, size=(2, 2))\n",
    "print(\"Random integers (0-9):\")\n",
    "print(random_ints)\n",
    "\n",
    "# Random floats from a uniform distribution between 0 and 1\n",
    "random_uniform = np.random.rand(2, 2)\n",
    "print(\"\\nRandom floats (uniform 0-1):\")\n",
    "print(random_uniform)"
   ]
  },
  {
   "cell_type": "markdown",
   "metadata": {},
   "source": [
    "### **Question 21:** How do you shuffle an array for randomizing data?"
   ]
  },
  {
   "cell_type": "code",
   "execution_count": 21,
   "metadata": {},
   "outputs": [
    {
     "name": "stdout",
     "output_type": "stream",
     "text": [
      "Original array: [0 1 2 3 4 5 6 7 8 9]\n",
      "Shuffled array (in place): [0 1 2 3 4 5 6 7 8 9]\n",
      "Random permutation (new array): [2 8 6 7 3 5 4 1 9 0]\n"
     ]
    }
   ],
   "source": [
    "# Shuffling arrays\n",
    "original = np.arange(10)\n",
    "print(\"Original array:\", original)\n",
    "\n",
    "# Shuffle modifies the array in-place\n",
    "np.random.shuffle(original)\n",
    "print(\"Shuffled array (in place):\", original)\n",
    "\n",
    "# Permutation returns a new shuffled array without modifying the original\n",
    "permuted = np.random.permutation(10)\n",
    "print(\"Random permutation (new array):\", permuted)"
   ]
  },
  {
   "cell_type": "markdown",
   "metadata": {},
   "source": [
    "### **Question 22:** How do you perform fundamental linear algebra operations like finding a matrix inverse and determinant?"
   ]
  },
  {
   "cell_type": "code",
   "execution_count": 22,
   "metadata": {},
   "outputs": [
    {
     "name": "stdout",
     "output_type": "stream",
     "text": [
      "Matrix A:\n",
      "[[4 2]\n",
      " [1 3]]\n",
      "\n",
      "Inverse of A:\n",
      "[[ 0.3 -0.2]\n",
      " [-0.1  0.4]]\n",
      "\n",
      "Determinant of A: 10.0\n",
      "\n",
      "Diagonal of A: [4 3]\n",
      "Trace of A (sum of diagonal): 7\n"
     ]
    }
   ],
   "source": [
    "# The np.linalg submodule contains linear algebra functions\n",
    "A = np.array([[4, 2], [1, 3]])\n",
    "print(\"Matrix A:\")\n",
    "print(A)\n",
    "\n",
    "# Matrix inverse\n",
    "A_inv = np.linalg.inv(A)\n",
    "print(\"\\nInverse of A:\")\n",
    "print(A_inv)\n",
    "\n",
    "# Determinant\n",
    "det_A = np.linalg.det(A)\n",
    "print(\"\\nDeterminant of A:\", det_A)\n",
    "\n",
    "# Diagonal and trace\n",
    "print(\"\\nDiagonal of A:\", np.diag(A))\n",
    "print(\"Trace of A (sum of diagonal):\", np.trace(A))"
   ]
  },
  {
   "cell_type": "markdown",
   "metadata": {},
   "source": [
    "---\n",
    "\n",
    "## **Day 7: AI/ML Applications & Saving/Loading**\n",
    "\n",
    "Let's put our skills to use in scenarios commonly found in AI and Machine Learning, and learn how to save our work."
   ]
  },
  {
   "cell_type": "markdown",
   "metadata": {},
   "source": [
    "### **Question 23:** How do you reshape image data for a neural network?"
   ]
  },
  {
   "cell_type": "markdown",
   "metadata": {},
   "source": [
    "**Answer**: Image datasets are often loaded as a 3D array of shape `(num_images, height, width)`. To feed them into a standard fully-connected neural network, each image must be flattened into a 1D vector. The `.reshape()` method is used for this."
   ]
  },
  {
   "cell_type": "code",
   "execution_count": 23,
   "metadata": {},
   "outputs": [
    {
     "name": "stdout",
     "output_type": "stream",
     "text": [
      "Original images shape: (100, 28, 28)\n",
      "Total pixels per image: 784\n",
      "\n",
      "Flattened shape for NN input: (100, 784)\n"
     ]
    }
   ],
   "source": [
    "# Simulate 100 grayscale images of 28x28 pixels (like MNIST)\n",
    "images = np.random.rand(100, 28, 28)\n",
    "print(\"Original images shape:\", images.shape)\n",
    "print(\"Total pixels per image:\", 28 * 28)\n",
    "\n",
    "# Flatten for fully connected layers\n",
    "flattened = images.reshape(100, -1)  # -1 tells NumPy to calculate this dimension\n",
    "print(\"\\nFlattened shape for NN input:\", flattened.shape)"
   ]
  },
  {
   "cell_type": "markdown",
   "metadata": {},
   "source": [
    "### **Question 24:** How do you split data into training and testing sets?"
   ]
  },
  {
   "cell_type": "code",
   "execution_count": 24,
   "metadata": {},
   "outputs": [
    {
     "name": "stdout",
     "output_type": "stream",
     "text": [
      "Total dataset size: 1000\n",
      "\n",
      "Training set shape: (800, 5)\n",
      "Test set shape: (200, 5)\n"
     ]
    }
   ],
   "source": [
    "# Create sample dataset\n",
    "np.random.seed(42)\n",
    "X = np.random.randn(1000, 5)  # 1000 samples, 5 features\n",
    "y = np.random.randint(0, 2, 1000)  # Binary classification labels\n",
    "\n",
    "print(\"Total dataset size:\", len(X))\n",
    "\n",
    "# 1. Create a shuffled list of indices\n",
    "shuffled_indices = np.random.permutation(len(X))\n",
    "\n",
    "# 2. Define split size (e.g., 80% for training)\n",
    "test_set_size = int(len(X) * 0.2)\n",
    "test_indices = shuffled_indices[:test_set_size]\n",
    "train_indices = shuffled_indices[test_set_size:]\n",
    "\n",
    "# 3. Create the sets using the indices\n",
    "X_train, X_test = X[train_indices], X[test_indices]\n",
    "y_train, y_test = y[train_indices], y[test_indices]\n",
    "\n",
    "print(\"\\nTraining set shape:\", X_train.shape)\n",
    "print(\"Test set shape:\", X_test.shape)"
   ]
  },
  {
   "cell_type": "markdown",
   "metadata": {},
   "source": [
    "### **Question 25:** How do you save a NumPy array to a binary `.npy` file and load it back?"
   ]
  },
  {
   "cell_type": "code",
   "execution_count": 25,
   "metadata": {},
   "outputs": [
    {
     "name": "stdout",
     "output_type": "stream",
     "text": [
      "Original array:\n",
      "[[0.73199394 0.59865848]\n",
      " [0.15601864 0.15599452]]\n",
      "\n",
      "Array saved to 'my_array.npy'\n",
      "\n",
      "Loaded array:\n",
      "[[0.73199394 0.59865848]\n",
      " [0.15601864 0.15599452]]\n",
      "\n",
      "Arrays are equal: True\n"
     ]
    }
   ],
   "source": [
    "np.random.seed(0)\n",
    "my_array = np.random.rand(2, 2)\n",
    "print(\"Original array:\")\n",
    "print(my_array)\n",
    "\n",
    "# Save the array\n",
    "np.save(\"my_array.npy\", my_array)\n",
    "print(\"\\nArray saved to 'my_array.npy'\")\n",
    "\n",
    "# Load the array\n",
    "loaded_array = np.load(\"my_array.npy\")\n",
    "print(\"\\nLoaded array:\")\n",
    "print(loaded_array)\n",
    "\n",
    "print(\"\\nArrays are equal:\", np.array_equal(my_array, loaded_array))"
   ]
  },
  {
   "cell_type": "markdown",
   "metadata": {},
   "source": [
    "### **Question 26:** How do you save multiple arrays into a single zipped `.npz` file?"
   ]
  },
  {
   "cell_type": "code",
   "execution_count": 26,
   "metadata": {},
   "outputs": [
    {
     "name": "stdout",
     "output_type": "stream",
     "text": [
      "File 'multiple_arrays.npz' saved.\n",
      "\n",
      "Arrays inside the file: ['arr1', 'arr2']\n",
      "\n",
      "Loaded arr1:\n",
      "[0 1 2 3]\n"
     ]
    }
   ],
   "source": [
    "array1 = np.arange(4)\n",
    "array2 = np.arange(5, 10)\n",
    "\n",
    "# Save multiple arrays using keywords for each\n",
    "np.savez(\"multiple_arrays.npz\", arr1=array1, arr2=array2)\n",
    "print(\"File 'multiple_arrays.npz' saved.\")\n",
    "\n",
    "# Load the npz file\n",
    "loaded_data = np.load(\"multiple_arrays.npz\")\n",
    "\n",
    "print(\"\\nArrays inside the file:\", loaded_data.files)\n",
    "print(\"\\nLoaded arr1:\")\n",
    "print(loaded_data['arr1'])"
   ]
  },
  {
   "cell_type": "markdown",
   "metadata": {},
   "source": [
    "---\n",
    "\n",
    "## **Summary and Next Steps**\n",
    "\n",
    "### 🎉 **Congratulations!**\n",
    "\n",
    "You've completed the NumPy mastery journey! Here's what you've learned:\n",
    "\n",
    "**Core Concepts Mastered:**\n",
    "- Array creation, manipulation, indexing, slicing, and reshaping.\n",
    "- Mathematical operations and the power of broadcasting.\n",
    "- Statistical functions and linear algebra essentials.\n",
    "- Random number generation and its importance for reproducibility.\n",
    "- Saving and loading your work.\n",
    "\n",
    "**Key Skills for AI/ML:**\n",
    "- Data preprocessing techniques like normalization.\n",
    "- Reshaping data for neural networks.\n",
    "- Splitting datasets for training and testing.\n",
    "\n",
    "### **Recommended Next Steps:**\n",
    "\n",
    "1.  **Practice More:** Work on real datasets. This is the best way to solidify your understanding.\n",
    "2.  **Expand Your Toolkit:** Now that you have a strong foundation in NumPy, you are ready to learn libraries that are built on top of it:\n",
    "    -   **Pandas:** For data manipulation and analysis.\n",
    "    -   **Matplotlib/Seaborn:** For data visualization.\n",
    "    -   **Scikit-learn:** For machine learning algorithms.\n",
    "    -   **TensorFlow/PyTorch:** For deep learning.\n",
    "3.  **Final Challenge:** Try to implement a simple linear regression algorithm using only the NumPy operations you've learned this week!"
   ]
  },
  {
   "cell_type": "code",
   "execution_count": 27,
   "metadata": {},
   "outputs": [
    {
     "name": "stdout",
     "output_type": "stream",
     "text": [
      "Epoch 0, Loss: 8.9419\n",
      "Epoch 200, Loss: 0.1388\n",
      "Epoch 400, Loss: 0.0135\n",
      "Epoch 600, Loss: 0.0084\n",
      "Epoch 800, Loss: 0.0081\n",
      "\n",
      "Learned weights: [1.97964977 2.99222442]\n",
      "True relationship: y = 3x + 2\n",
      "Learned relationship: y = 2.99x + 1.98\n",
      "\n",
      "🎯 You've successfully implemented linear regression with NumPy!\n",
      "🚀 You're now ready to tackle advanced AI/ML projects!\n"
     ]
    }
   ],
   "source": [
    "# Final challenge: Linear Regression from scratch\n",
    "def linear_regression_numpy(X, y, learning_rate=0.01, epochs=1000):\n",
    "    # Add bias term (intercept)\n",
    "    X_with_bias = np.c_[np.ones(X.shape[0]), X]\n",
    "    # Initialize weights\n",
    "    weights = np.random.randn(X_with_bias.shape[1]) * 0.01\n",
    "    \n",
    "    for epoch in range(epochs):\n",
    "        predictions = X_with_bias @ weights\n",
    "        loss = np.mean((predictions - y) ** 2)\n",
    "        gradients = (2/len(y)) * X_with_bias.T @ (predictions - y)\n",
    "        weights -= learning_rate * gradients\n",
    "        if epoch % 200 == 0:\n",
    "            print(f\"Epoch {epoch}, Loss: {loss:.4f}\")\n",
    "    return weights\n",
    "\n",
    "np.random.seed(42)\n",
    "X = np.random.randn(100, 1)\n",
    "y = 3 * X.ravel() + 2 + np.random.randn(100) * 0.1  # y = 3x + 2 + noise\n",
    "\n",
    "weights = linear_regression_numpy(X, y)\n",
    "print(f\"\\nLearned weights: {weights}\")\n",
    "print(f\"True relationship: y = 3x + 2\")\n",
    "print(f\"Learned relationship: y = {weights[1]:.2f}x + {weights[0]:.2f}\")\n",
    "\n",
    "print(\"\\n🎯 You've successfully implemented linear regression with NumPy!\")\n",
    "print(\"🚀 You're now ready to tackle advanced AI/ML projects!\")"
   ]
  }
 ],
 "nbformat": 4,
 "nbformat_minor": 4
}